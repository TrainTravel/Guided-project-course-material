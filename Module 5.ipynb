{
  "cells": [
    {
      "cell_type": "markdown",
      "metadata": {
        "id": "9Nls5D1jZFvr"
      },
      "source": [
        "<a id='table_of_contents'></a>\n",
        "\n",
        "0. [Import libraries](#imports)\n",
        "1. [Import data](#import_data)\n",
        "2. [Data exploration](#data_exploration)\n",
        "3. [Data cleaning](#data_cleaning)\n",
        "4. [Data preparation](#data_preparation)\n",
        "5. [Benchmark model](#benchmark_model)<br>\n",
        "    5.1. [Train-test split](#train_test_split)<br>\n",
        "    5.2. [Fit a model to the data](#fit_model)<br>\n",
        "    5.3. [Model evaluation](#model_evaluation)<br>\n",
        "    5.4. [Fix problems](#fix_problems)\n",
        "6. [Feature engineering](#feature_engineering)\n",
        "7. [Model training](#model_training)<br>\n",
        "    7.1. [Decision Tree](#decision_tree)<br>\n",
        "    7.2. [Random Forest](#random_forest) -\n",
        "      [Overfit](#overfit) -\n",
        "      [Underfit](#underfit)<br>\n",
        "    7.3. [Gradient boosting](#gradient_boosting)<br>\n",
        "    7.4. [Comparing algorithm performances](#comparing_algorithm_performances)\n",
        "9. [Tuning](#tuning)<br>\n",
        "    8.1. [Find best parameters](#find_best_parameters)<br>\n",
        "    Bonus: [Classification](#classification)"
      ]
    },
    {
      "cell_type": "markdown",
      "metadata": {
        "id": "wGY4D5uGZFvu"
      },
      "source": [
        "# 0. Import libraries <a id='imports'></a>\n",
        "[Back to top](#table_of_contents)"
      ]
    },
    {
      "cell_type": "code",
      "execution_count": 1,
      "metadata": {
        "id": "77h1GJoWZFvv"
      },
      "outputs": [],
      "source": [
        "import pandas as pd\n",
        "import numpy as np\n",
        "\n",
        "%matplotlib inline"
      ]
    },
    {
      "cell_type": "markdown",
      "metadata": {
        "id": "OTfKzlSVZFvx"
      },
      "source": [
        "# 1. Import data <a id='import_data'></a>\n",
        "[Back to top](#table_of_contents)"
      ]
    },
    {
      "cell_type": "code",
      "source": [
        "\n",
        "! wget https://data.cityofnewyork.us/resource/2upf-qytp.csv"
      ],
      "metadata": {
        "id": "JvmC_KoPZvcG",
        "outputId": "5b765d08-42c2-4b62-ec9e-dd8757b547ef",
        "colab": {
          "base_uri": "https://localhost:8080/"
        }
      },
      "execution_count": 4,
      "outputs": [
        {
          "output_type": "stream",
          "name": "stdout",
          "text": [
            "--2024-11-01 11:05:42--  https://data.cityofnewyork.us/resource/2upf-qytp.csv\n",
            "Resolving data.cityofnewyork.us (data.cityofnewyork.us)... 52.206.140.205, 52.206.140.199, 52.206.68.26\n",
            "Connecting to data.cityofnewyork.us (data.cityofnewyork.us)|52.206.140.205|:443... connected.\n",
            "HTTP request sent, awaiting response... 200 OK\n",
            "Length: unspecified [text/csv]\n",
            "Saving to: ‘2upf-qytp.csv’\n",
            "\n",
            "2upf-qytp.csv           [ <=>                ] 133.62K  --.-KB/s    in 0.006s  \n",
            "\n",
            "2024-11-01 11:05:43 (22.6 MB/s) - ‘2upf-qytp.csv’ saved [136826]\n",
            "\n"
          ]
        }
      ]
    },
    {
      "cell_type": "code",
      "source": [
        "\n",
        "# !mkdir data &\n",
        "!mv 2upf-qytp.csv data/yellow_tripdata_2019-01.csv"
      ],
      "metadata": {
        "id": "ayEQEDrvZxu2"
      },
      "execution_count": 6,
      "outputs": []
    },
    {
      "cell_type": "code",
      "execution_count": 7,
      "metadata": {
        "id": "iBOsITFrZFvx"
      },
      "outputs": [],
      "source": [
        "taxi_jan_2019 = pd.read_csv('data/yellow_tripdata_2019-01.csv')\n",
        "taxi_data = pd.concat([taxi_jan_2019])"
      ]
    },
    {
      "cell_type": "code",
      "execution_count": 8,
      "metadata": {
        "id": "gYC8M8mcZFvy",
        "outputId": "127c7b0b-0b25-4943-d946-72d1e07fa8b3",
        "colab": {
          "base_uri": "https://localhost:8080/",
          "height": 245
        }
      },
      "outputs": [
        {
          "output_type": "stream",
          "name": "stdout",
          "text": [
            "(1000, 18)\n"
          ]
        },
        {
          "output_type": "execute_result",
          "data": {
            "text/plain": [
              "   vendorid     tpep_pickup_datetime    tpep_dropoff_datetime  \\\n",
              "0         1  2019-07-13T00:21:29.000  2019-07-13T00:44:52.000   \n",
              "1         2  2019-07-13T00:07:50.000  2019-07-13T00:17:50.000   \n",
              "2         2  2019-07-13T00:30:55.000  2019-07-13T00:38:03.000   \n",
              "3         2  2019-07-13T00:31:55.000  2019-07-13T00:52:57.000   \n",
              "4         2  2019-07-12T23:59:40.000  2019-07-13T00:06:12.000   \n",
              "\n",
              "   passenger_count  trip_distance  ratecodeid store_and_fwd_flag  \\\n",
              "0                1           4.70           1                  N   \n",
              "1                5           1.65           1                  N   \n",
              "2                5           1.46           1                  N   \n",
              "3                1           9.96           1                  N   \n",
              "4                1           0.87           1                  N   \n",
              "\n",
              "   pulocationid  dolocationid  payment_type  fare_amount  extra  mta_tax  \\\n",
              "0            48           209             1         18.0    3.0      0.5   \n",
              "1            79           170             2          8.5    0.5      0.5   \n",
              "2            79           137             2          7.0    0.5      0.5   \n",
              "3           138           162             2         29.0    0.5      0.5   \n",
              "4           249           114             1          6.0    0.5      0.5   \n",
              "\n",
              "   tip_amount  tolls_amount  improvement_surcharge  total_amount  \\\n",
              "0        4.35          0.00                    0.3         26.15   \n",
              "1        0.00          0.00                    0.3         12.30   \n",
              "2        0.00          0.00                    0.3         10.80   \n",
              "3        0.00          6.12                    0.3         38.92   \n",
              "4        1.96          0.00                    0.3         11.76   \n",
              "\n",
              "   congestion_surcharge  \n",
              "0                   2.5  \n",
              "1                   2.5  \n",
              "2                   2.5  \n",
              "3                   2.5  \n",
              "4                   2.5  "
            ],
            "text/html": [
              "\n",
              "  <div id=\"df-4e781f6a-3279-4bbb-869b-53da9daad901\" class=\"colab-df-container\">\n",
              "    <div>\n",
              "<style scoped>\n",
              "    .dataframe tbody tr th:only-of-type {\n",
              "        vertical-align: middle;\n",
              "    }\n",
              "\n",
              "    .dataframe tbody tr th {\n",
              "        vertical-align: top;\n",
              "    }\n",
              "\n",
              "    .dataframe thead th {\n",
              "        text-align: right;\n",
              "    }\n",
              "</style>\n",
              "<table border=\"1\" class=\"dataframe\">\n",
              "  <thead>\n",
              "    <tr style=\"text-align: right;\">\n",
              "      <th></th>\n",
              "      <th>vendorid</th>\n",
              "      <th>tpep_pickup_datetime</th>\n",
              "      <th>tpep_dropoff_datetime</th>\n",
              "      <th>passenger_count</th>\n",
              "      <th>trip_distance</th>\n",
              "      <th>ratecodeid</th>\n",
              "      <th>store_and_fwd_flag</th>\n",
              "      <th>pulocationid</th>\n",
              "      <th>dolocationid</th>\n",
              "      <th>payment_type</th>\n",
              "      <th>fare_amount</th>\n",
              "      <th>extra</th>\n",
              "      <th>mta_tax</th>\n",
              "      <th>tip_amount</th>\n",
              "      <th>tolls_amount</th>\n",
              "      <th>improvement_surcharge</th>\n",
              "      <th>total_amount</th>\n",
              "      <th>congestion_surcharge</th>\n",
              "    </tr>\n",
              "  </thead>\n",
              "  <tbody>\n",
              "    <tr>\n",
              "      <th>0</th>\n",
              "      <td>1</td>\n",
              "      <td>2019-07-13T00:21:29.000</td>\n",
              "      <td>2019-07-13T00:44:52.000</td>\n",
              "      <td>1</td>\n",
              "      <td>4.70</td>\n",
              "      <td>1</td>\n",
              "      <td>N</td>\n",
              "      <td>48</td>\n",
              "      <td>209</td>\n",
              "      <td>1</td>\n",
              "      <td>18.0</td>\n",
              "      <td>3.0</td>\n",
              "      <td>0.5</td>\n",
              "      <td>4.35</td>\n",
              "      <td>0.00</td>\n",
              "      <td>0.3</td>\n",
              "      <td>26.15</td>\n",
              "      <td>2.5</td>\n",
              "    </tr>\n",
              "    <tr>\n",
              "      <th>1</th>\n",
              "      <td>2</td>\n",
              "      <td>2019-07-13T00:07:50.000</td>\n",
              "      <td>2019-07-13T00:17:50.000</td>\n",
              "      <td>5</td>\n",
              "      <td>1.65</td>\n",
              "      <td>1</td>\n",
              "      <td>N</td>\n",
              "      <td>79</td>\n",
              "      <td>170</td>\n",
              "      <td>2</td>\n",
              "      <td>8.5</td>\n",
              "      <td>0.5</td>\n",
              "      <td>0.5</td>\n",
              "      <td>0.00</td>\n",
              "      <td>0.00</td>\n",
              "      <td>0.3</td>\n",
              "      <td>12.30</td>\n",
              "      <td>2.5</td>\n",
              "    </tr>\n",
              "    <tr>\n",
              "      <th>2</th>\n",
              "      <td>2</td>\n",
              "      <td>2019-07-13T00:30:55.000</td>\n",
              "      <td>2019-07-13T00:38:03.000</td>\n",
              "      <td>5</td>\n",
              "      <td>1.46</td>\n",
              "      <td>1</td>\n",
              "      <td>N</td>\n",
              "      <td>79</td>\n",
              "      <td>137</td>\n",
              "      <td>2</td>\n",
              "      <td>7.0</td>\n",
              "      <td>0.5</td>\n",
              "      <td>0.5</td>\n",
              "      <td>0.00</td>\n",
              "      <td>0.00</td>\n",
              "      <td>0.3</td>\n",
              "      <td>10.80</td>\n",
              "      <td>2.5</td>\n",
              "    </tr>\n",
              "    <tr>\n",
              "      <th>3</th>\n",
              "      <td>2</td>\n",
              "      <td>2019-07-13T00:31:55.000</td>\n",
              "      <td>2019-07-13T00:52:57.000</td>\n",
              "      <td>1</td>\n",
              "      <td>9.96</td>\n",
              "      <td>1</td>\n",
              "      <td>N</td>\n",
              "      <td>138</td>\n",
              "      <td>162</td>\n",
              "      <td>2</td>\n",
              "      <td>29.0</td>\n",
              "      <td>0.5</td>\n",
              "      <td>0.5</td>\n",
              "      <td>0.00</td>\n",
              "      <td>6.12</td>\n",
              "      <td>0.3</td>\n",
              "      <td>38.92</td>\n",
              "      <td>2.5</td>\n",
              "    </tr>\n",
              "    <tr>\n",
              "      <th>4</th>\n",
              "      <td>2</td>\n",
              "      <td>2019-07-12T23:59:40.000</td>\n",
              "      <td>2019-07-13T00:06:12.000</td>\n",
              "      <td>1</td>\n",
              "      <td>0.87</td>\n",
              "      <td>1</td>\n",
              "      <td>N</td>\n",
              "      <td>249</td>\n",
              "      <td>114</td>\n",
              "      <td>1</td>\n",
              "      <td>6.0</td>\n",
              "      <td>0.5</td>\n",
              "      <td>0.5</td>\n",
              "      <td>1.96</td>\n",
              "      <td>0.00</td>\n",
              "      <td>0.3</td>\n",
              "      <td>11.76</td>\n",
              "      <td>2.5</td>\n",
              "    </tr>\n",
              "  </tbody>\n",
              "</table>\n",
              "</div>\n",
              "    <div class=\"colab-df-buttons\">\n",
              "\n",
              "  <div class=\"colab-df-container\">\n",
              "    <button class=\"colab-df-convert\" onclick=\"convertToInteractive('df-4e781f6a-3279-4bbb-869b-53da9daad901')\"\n",
              "            title=\"Convert this dataframe to an interactive table.\"\n",
              "            style=\"display:none;\">\n",
              "\n",
              "  <svg xmlns=\"http://www.w3.org/2000/svg\" height=\"24px\" viewBox=\"0 -960 960 960\">\n",
              "    <path d=\"M120-120v-720h720v720H120Zm60-500h600v-160H180v160Zm220 220h160v-160H400v160Zm0 220h160v-160H400v160ZM180-400h160v-160H180v160Zm440 0h160v-160H620v160ZM180-180h160v-160H180v160Zm440 0h160v-160H620v160Z\"/>\n",
              "  </svg>\n",
              "    </button>\n",
              "\n",
              "  <style>\n",
              "    .colab-df-container {\n",
              "      display:flex;\n",
              "      gap: 12px;\n",
              "    }\n",
              "\n",
              "    .colab-df-convert {\n",
              "      background-color: #E8F0FE;\n",
              "      border: none;\n",
              "      border-radius: 50%;\n",
              "      cursor: pointer;\n",
              "      display: none;\n",
              "      fill: #1967D2;\n",
              "      height: 32px;\n",
              "      padding: 0 0 0 0;\n",
              "      width: 32px;\n",
              "    }\n",
              "\n",
              "    .colab-df-convert:hover {\n",
              "      background-color: #E2EBFA;\n",
              "      box-shadow: 0px 1px 2px rgba(60, 64, 67, 0.3), 0px 1px 3px 1px rgba(60, 64, 67, 0.15);\n",
              "      fill: #174EA6;\n",
              "    }\n",
              "\n",
              "    .colab-df-buttons div {\n",
              "      margin-bottom: 4px;\n",
              "    }\n",
              "\n",
              "    [theme=dark] .colab-df-convert {\n",
              "      background-color: #3B4455;\n",
              "      fill: #D2E3FC;\n",
              "    }\n",
              "\n",
              "    [theme=dark] .colab-df-convert:hover {\n",
              "      background-color: #434B5C;\n",
              "      box-shadow: 0px 1px 3px 1px rgba(0, 0, 0, 0.15);\n",
              "      filter: drop-shadow(0px 1px 2px rgba(0, 0, 0, 0.3));\n",
              "      fill: #FFFFFF;\n",
              "    }\n",
              "  </style>\n",
              "\n",
              "    <script>\n",
              "      const buttonEl =\n",
              "        document.querySelector('#df-4e781f6a-3279-4bbb-869b-53da9daad901 button.colab-df-convert');\n",
              "      buttonEl.style.display =\n",
              "        google.colab.kernel.accessAllowed ? 'block' : 'none';\n",
              "\n",
              "      async function convertToInteractive(key) {\n",
              "        const element = document.querySelector('#df-4e781f6a-3279-4bbb-869b-53da9daad901');\n",
              "        const dataTable =\n",
              "          await google.colab.kernel.invokeFunction('convertToInteractive',\n",
              "                                                    [key], {});\n",
              "        if (!dataTable) return;\n",
              "\n",
              "        const docLinkHtml = 'Like what you see? Visit the ' +\n",
              "          '<a target=\"_blank\" href=https://colab.research.google.com/notebooks/data_table.ipynb>data table notebook</a>'\n",
              "          + ' to learn more about interactive tables.';\n",
              "        element.innerHTML = '';\n",
              "        dataTable['output_type'] = 'display_data';\n",
              "        await google.colab.output.renderOutput(dataTable, element);\n",
              "        const docLink = document.createElement('div');\n",
              "        docLink.innerHTML = docLinkHtml;\n",
              "        element.appendChild(docLink);\n",
              "      }\n",
              "    </script>\n",
              "  </div>\n",
              "\n",
              "\n",
              "<div id=\"df-ed1a1230-6908-4e23-9332-7d14c59e080e\">\n",
              "  <button class=\"colab-df-quickchart\" onclick=\"quickchart('df-ed1a1230-6908-4e23-9332-7d14c59e080e')\"\n",
              "            title=\"Suggest charts\"\n",
              "            style=\"display:none;\">\n",
              "\n",
              "<svg xmlns=\"http://www.w3.org/2000/svg\" height=\"24px\"viewBox=\"0 0 24 24\"\n",
              "     width=\"24px\">\n",
              "    <g>\n",
              "        <path d=\"M19 3H5c-1.1 0-2 .9-2 2v14c0 1.1.9 2 2 2h14c1.1 0 2-.9 2-2V5c0-1.1-.9-2-2-2zM9 17H7v-7h2v7zm4 0h-2V7h2v10zm4 0h-2v-4h2v4z\"/>\n",
              "    </g>\n",
              "</svg>\n",
              "  </button>\n",
              "\n",
              "<style>\n",
              "  .colab-df-quickchart {\n",
              "      --bg-color: #E8F0FE;\n",
              "      --fill-color: #1967D2;\n",
              "      --hover-bg-color: #E2EBFA;\n",
              "      --hover-fill-color: #174EA6;\n",
              "      --disabled-fill-color: #AAA;\n",
              "      --disabled-bg-color: #DDD;\n",
              "  }\n",
              "\n",
              "  [theme=dark] .colab-df-quickchart {\n",
              "      --bg-color: #3B4455;\n",
              "      --fill-color: #D2E3FC;\n",
              "      --hover-bg-color: #434B5C;\n",
              "      --hover-fill-color: #FFFFFF;\n",
              "      --disabled-bg-color: #3B4455;\n",
              "      --disabled-fill-color: #666;\n",
              "  }\n",
              "\n",
              "  .colab-df-quickchart {\n",
              "    background-color: var(--bg-color);\n",
              "    border: none;\n",
              "    border-radius: 50%;\n",
              "    cursor: pointer;\n",
              "    display: none;\n",
              "    fill: var(--fill-color);\n",
              "    height: 32px;\n",
              "    padding: 0;\n",
              "    width: 32px;\n",
              "  }\n",
              "\n",
              "  .colab-df-quickchart:hover {\n",
              "    background-color: var(--hover-bg-color);\n",
              "    box-shadow: 0 1px 2px rgba(60, 64, 67, 0.3), 0 1px 3px 1px rgba(60, 64, 67, 0.15);\n",
              "    fill: var(--button-hover-fill-color);\n",
              "  }\n",
              "\n",
              "  .colab-df-quickchart-complete:disabled,\n",
              "  .colab-df-quickchart-complete:disabled:hover {\n",
              "    background-color: var(--disabled-bg-color);\n",
              "    fill: var(--disabled-fill-color);\n",
              "    box-shadow: none;\n",
              "  }\n",
              "\n",
              "  .colab-df-spinner {\n",
              "    border: 2px solid var(--fill-color);\n",
              "    border-color: transparent;\n",
              "    border-bottom-color: var(--fill-color);\n",
              "    animation:\n",
              "      spin 1s steps(1) infinite;\n",
              "  }\n",
              "\n",
              "  @keyframes spin {\n",
              "    0% {\n",
              "      border-color: transparent;\n",
              "      border-bottom-color: var(--fill-color);\n",
              "      border-left-color: var(--fill-color);\n",
              "    }\n",
              "    20% {\n",
              "      border-color: transparent;\n",
              "      border-left-color: var(--fill-color);\n",
              "      border-top-color: var(--fill-color);\n",
              "    }\n",
              "    30% {\n",
              "      border-color: transparent;\n",
              "      border-left-color: var(--fill-color);\n",
              "      border-top-color: var(--fill-color);\n",
              "      border-right-color: var(--fill-color);\n",
              "    }\n",
              "    40% {\n",
              "      border-color: transparent;\n",
              "      border-right-color: var(--fill-color);\n",
              "      border-top-color: var(--fill-color);\n",
              "    }\n",
              "    60% {\n",
              "      border-color: transparent;\n",
              "      border-right-color: var(--fill-color);\n",
              "    }\n",
              "    80% {\n",
              "      border-color: transparent;\n",
              "      border-right-color: var(--fill-color);\n",
              "      border-bottom-color: var(--fill-color);\n",
              "    }\n",
              "    90% {\n",
              "      border-color: transparent;\n",
              "      border-bottom-color: var(--fill-color);\n",
              "    }\n",
              "  }\n",
              "</style>\n",
              "\n",
              "  <script>\n",
              "    async function quickchart(key) {\n",
              "      const quickchartButtonEl =\n",
              "        document.querySelector('#' + key + ' button');\n",
              "      quickchartButtonEl.disabled = true;  // To prevent multiple clicks.\n",
              "      quickchartButtonEl.classList.add('colab-df-spinner');\n",
              "      try {\n",
              "        const charts = await google.colab.kernel.invokeFunction(\n",
              "            'suggestCharts', [key], {});\n",
              "      } catch (error) {\n",
              "        console.error('Error during call to suggestCharts:', error);\n",
              "      }\n",
              "      quickchartButtonEl.classList.remove('colab-df-spinner');\n",
              "      quickchartButtonEl.classList.add('colab-df-quickchart-complete');\n",
              "    }\n",
              "    (() => {\n",
              "      let quickchartButtonEl =\n",
              "        document.querySelector('#df-ed1a1230-6908-4e23-9332-7d14c59e080e button');\n",
              "      quickchartButtonEl.style.display =\n",
              "        google.colab.kernel.accessAllowed ? 'block' : 'none';\n",
              "    })();\n",
              "  </script>\n",
              "</div>\n",
              "\n",
              "    </div>\n",
              "  </div>\n"
            ],
            "application/vnd.google.colaboratory.intrinsic+json": {
              "type": "dataframe",
              "variable_name": "taxi_data",
              "summary": "{\n  \"name\": \"taxi_data\",\n  \"rows\": 1000,\n  \"fields\": [\n    {\n      \"column\": \"vendorid\",\n      \"properties\": {\n        \"dtype\": \"number\",\n        \"std\": 0,\n        \"min\": 1,\n        \"max\": 4,\n        \"num_unique_values\": 3,\n        \"samples\": [\n          1,\n          2,\n          4\n        ],\n        \"semantic_type\": \"\",\n        \"description\": \"\"\n      }\n    },\n    {\n      \"column\": \"tpep_pickup_datetime\",\n      \"properties\": {\n        \"dtype\": \"object\",\n        \"num_unique_values\": 884,\n        \"samples\": [\n          \"2019-07-13T00:16:32.000\",\n          \"2019-07-13T00:16:15.000\",\n          \"2019-07-13T00:14:49.000\"\n        ],\n        \"semantic_type\": \"\",\n        \"description\": \"\"\n      }\n    },\n    {\n      \"column\": \"tpep_dropoff_datetime\",\n      \"properties\": {\n        \"dtype\": \"object\",\n        \"num_unique_values\": 884,\n        \"samples\": [\n          \"2019-07-13T00:22:18.000\",\n          \"2019-07-13T00:11:35.000\",\n          \"2019-07-13T01:10:13.000\"\n        ],\n        \"semantic_type\": \"\",\n        \"description\": \"\"\n      }\n    },\n    {\n      \"column\": \"passenger_count\",\n      \"properties\": {\n        \"dtype\": \"number\",\n        \"std\": 1,\n        \"min\": 0,\n        \"max\": 6,\n        \"num_unique_values\": 7,\n        \"samples\": [\n          1,\n          5,\n          3\n        ],\n        \"semantic_type\": \"\",\n        \"description\": \"\"\n      }\n    },\n    {\n      \"column\": \"trip_distance\",\n      \"properties\": {\n        \"dtype\": \"number\",\n        \"std\": 3.9601420900358217,\n        \"min\": 0.0,\n        \"max\": 37.18,\n        \"num_unique_values\": 479,\n        \"samples\": [\n          3.66,\n          6.2,\n          3.47\n        ],\n        \"semantic_type\": \"\",\n        \"description\": \"\"\n      }\n    },\n    {\n      \"column\": \"ratecodeid\",\n      \"properties\": {\n        \"dtype\": \"number\",\n        \"std\": 0,\n        \"min\": 1,\n        \"max\": 5,\n        \"num_unique_values\": 3,\n        \"samples\": [\n          1,\n          2,\n          5\n        ],\n        \"semantic_type\": \"\",\n        \"description\": \"\"\n      }\n    },\n    {\n      \"column\": \"store_and_fwd_flag\",\n      \"properties\": {\n        \"dtype\": \"category\",\n        \"num_unique_values\": 2,\n        \"samples\": [\n          \"Y\",\n          \"N\"\n        ],\n        \"semantic_type\": \"\",\n        \"description\": \"\"\n      }\n    },\n    {\n      \"column\": \"pulocationid\",\n      \"properties\": {\n        \"dtype\": \"number\",\n        \"std\": 61,\n        \"min\": 4,\n        \"max\": 265,\n        \"num_unique_values\": 80,\n        \"samples\": [\n          151,\n          48\n        ],\n        \"semantic_type\": \"\",\n        \"description\": \"\"\n      }\n    },\n    {\n      \"column\": \"dolocationid\",\n      \"properties\": {\n        \"dtype\": \"number\",\n        \"std\": 70,\n        \"min\": 4,\n        \"max\": 265,\n        \"num_unique_values\": 133,\n        \"samples\": [\n          256,\n          124\n        ],\n        \"semantic_type\": \"\",\n        \"description\": \"\"\n      }\n    },\n    {\n      \"column\": \"payment_type\",\n      \"properties\": {\n        \"dtype\": \"number\",\n        \"std\": 0,\n        \"min\": 1,\n        \"max\": 3,\n        \"num_unique_values\": 3,\n        \"samples\": [\n          1,\n          2\n        ],\n        \"semantic_type\": \"\",\n        \"description\": \"\"\n      }\n    },\n    {\n      \"column\": \"fare_amount\",\n      \"properties\": {\n        \"dtype\": \"number\",\n        \"std\": 12.583615050745339,\n        \"min\": -52.0,\n        \"max\": 150.0,\n        \"num_unique_values\": 98,\n        \"samples\": [\n          41.0,\n          18.5\n        ],\n        \"semantic_type\": \"\",\n        \"description\": \"\"\n      }\n    },\n    {\n      \"column\": \"extra\",\n      \"properties\": {\n        \"dtype\": \"number\",\n        \"std\": 1.1247738066456436,\n        \"min\": -0.5,\n        \"max\": 3.0,\n        \"num_unique_values\": 5,\n        \"samples\": [\n          0.5,\n          -0.5\n        ],\n        \"semantic_type\": \"\",\n        \"description\": \"\"\n      }\n    },\n    {\n      \"column\": \"mta_tax\",\n      \"properties\": {\n        \"dtype\": \"number\",\n        \"std\": 0.07220085153904286,\n        \"min\": -0.5,\n        \"max\": 0.5,\n        \"num_unique_values\": 3,\n        \"samples\": [\n          0.5,\n          0.0\n        ],\n        \"semantic_type\": \"\",\n        \"description\": \"\"\n      }\n    },\n    {\n      \"column\": \"tip_amount\",\n      \"properties\": {\n        \"dtype\": \"number\",\n        \"std\": 2.7096746150819615,\n        \"min\": 0.0,\n        \"max\": 20.0,\n        \"num_unique_values\": 239,\n        \"samples\": [\n          2.96,\n          4.36\n        ],\n        \"semantic_type\": \"\",\n        \"description\": \"\"\n      }\n    },\n    {\n      \"column\": \"tolls_amount\",\n      \"properties\": {\n        \"dtype\": \"number\",\n        \"std\": 1.4008816580353463,\n        \"min\": 0.0,\n        \"max\": 12.24,\n        \"num_unique_values\": 4,\n        \"samples\": [\n          6.12,\n          10.5\n        ],\n        \"semantic_type\": \"\",\n        \"description\": \"\"\n      }\n    },\n    {\n      \"column\": \"improvement_surcharge\",\n      \"properties\": {\n        \"dtype\": \"number\",\n        \"std\": 0.039041442522455956,\n        \"min\": -0.3,\n        \"max\": 0.3,\n        \"num_unique_values\": 3,\n        \"samples\": [\n          0.3,\n          0.0\n        ],\n        \"semantic_type\": \"\",\n        \"description\": \"\"\n      }\n    },\n    {\n      \"column\": \"total_amount\",\n      \"properties\": {\n        \"dtype\": \"number\",\n        \"std\": 14.866302479696076,\n        \"min\": -55.3,\n        \"max\": 162.8,\n        \"num_unique_values\": 334,\n        \"samples\": [\n          8.4,\n          37.88\n        ],\n        \"semantic_type\": \"\",\n        \"description\": \"\"\n      }\n    },\n    {\n      \"column\": \"congestion_surcharge\",\n      \"properties\": {\n        \"dtype\": \"number\",\n        \"std\": 0.7877312489171207,\n        \"min\": -2.5,\n        \"max\": 2.5,\n        \"num_unique_values\": 3,\n        \"samples\": [\n          2.5,\n          0.0\n        ],\n        \"semantic_type\": \"\",\n        \"description\": \"\"\n      }\n    }\n  ]\n}"
            }
          },
          "metadata": {},
          "execution_count": 8
        }
      ],
      "source": [
        "print(taxi_data.shape)\n",
        "taxi_data.head()"
      ]
    },
    {
      "cell_type": "markdown",
      "metadata": {
        "id": "Cem_5AObZFvz"
      },
      "source": [
        "# 2. Data exploration <a id='data_exploration'></a>\n",
        "[Back to top](#table_of_contents)"
      ]
    },
    {
      "cell_type": "code",
      "execution_count": 9,
      "metadata": {
        "id": "jIQFyL29ZFv0",
        "outputId": "965b8909-9938-4306-a40e-e85b76a01f77",
        "colab": {
          "base_uri": "https://localhost:8080/"
        }
      },
      "outputs": [
        {
          "output_type": "execute_result",
          "data": {
            "text/plain": [
              "Index(['vendorid', 'tpep_pickup_datetime', 'tpep_dropoff_datetime',\n",
              "       'passenger_count', 'trip_distance', 'ratecodeid', 'store_and_fwd_flag',\n",
              "       'pulocationid', 'dolocationid', 'payment_type', 'fare_amount', 'extra',\n",
              "       'mta_tax', 'tip_amount', 'tolls_amount', 'improvement_surcharge',\n",
              "       'total_amount', 'congestion_surcharge'],\n",
              "      dtype='object')"
            ]
          },
          "metadata": {},
          "execution_count": 9
        }
      ],
      "source": [
        "taxi_data.columns"
      ]
    },
    {
      "cell_type": "code",
      "execution_count": 11,
      "metadata": {
        "id": "1hW3pwEYZFv1"
      },
      "outputs": [],
      "source": [
        "taxi_data = taxi_data[['tpep_pickup_datetime', 'tpep_dropoff_datetime',\n",
        "       'passenger_count', 'trip_distance', 'ratecodeid','pulocationid',\n",
        "       'dolocationid', 'payment_type',  'total_amount']]"
      ]
    },
    {
      "cell_type": "code",
      "execution_count": 12,
      "metadata": {
        "id": "t0-I1DxMZFv3",
        "outputId": "93df44cd-a591-4817-f1ce-3dc8ca9119a9",
        "colab": {
          "base_uri": "https://localhost:8080/",
          "height": 206
        }
      },
      "outputs": [
        {
          "output_type": "execute_result",
          "data": {
            "text/plain": [
              "      tpep_pickup_datetime    tpep_dropoff_datetime  passenger_count  \\\n",
              "0  2019-07-13T00:21:29.000  2019-07-13T00:44:52.000                1   \n",
              "1  2019-07-13T00:07:50.000  2019-07-13T00:17:50.000                5   \n",
              "2  2019-07-13T00:30:55.000  2019-07-13T00:38:03.000                5   \n",
              "3  2019-07-13T00:31:55.000  2019-07-13T00:52:57.000                1   \n",
              "4  2019-07-12T23:59:40.000  2019-07-13T00:06:12.000                1   \n",
              "\n",
              "   trip_distance  ratecodeid  pulocationid  dolocationid  payment_type  \\\n",
              "0           4.70           1            48           209             1   \n",
              "1           1.65           1            79           170             2   \n",
              "2           1.46           1            79           137             2   \n",
              "3           9.96           1           138           162             2   \n",
              "4           0.87           1           249           114             1   \n",
              "\n",
              "   total_amount  \n",
              "0         26.15  \n",
              "1         12.30  \n",
              "2         10.80  \n",
              "3         38.92  \n",
              "4         11.76  "
            ],
            "text/html": [
              "\n",
              "  <div id=\"df-fdf10faa-6ebd-4653-9bf3-56b88ed00037\" class=\"colab-df-container\">\n",
              "    <div>\n",
              "<style scoped>\n",
              "    .dataframe tbody tr th:only-of-type {\n",
              "        vertical-align: middle;\n",
              "    }\n",
              "\n",
              "    .dataframe tbody tr th {\n",
              "        vertical-align: top;\n",
              "    }\n",
              "\n",
              "    .dataframe thead th {\n",
              "        text-align: right;\n",
              "    }\n",
              "</style>\n",
              "<table border=\"1\" class=\"dataframe\">\n",
              "  <thead>\n",
              "    <tr style=\"text-align: right;\">\n",
              "      <th></th>\n",
              "      <th>tpep_pickup_datetime</th>\n",
              "      <th>tpep_dropoff_datetime</th>\n",
              "      <th>passenger_count</th>\n",
              "      <th>trip_distance</th>\n",
              "      <th>ratecodeid</th>\n",
              "      <th>pulocationid</th>\n",
              "      <th>dolocationid</th>\n",
              "      <th>payment_type</th>\n",
              "      <th>total_amount</th>\n",
              "    </tr>\n",
              "  </thead>\n",
              "  <tbody>\n",
              "    <tr>\n",
              "      <th>0</th>\n",
              "      <td>2019-07-13T00:21:29.000</td>\n",
              "      <td>2019-07-13T00:44:52.000</td>\n",
              "      <td>1</td>\n",
              "      <td>4.70</td>\n",
              "      <td>1</td>\n",
              "      <td>48</td>\n",
              "      <td>209</td>\n",
              "      <td>1</td>\n",
              "      <td>26.15</td>\n",
              "    </tr>\n",
              "    <tr>\n",
              "      <th>1</th>\n",
              "      <td>2019-07-13T00:07:50.000</td>\n",
              "      <td>2019-07-13T00:17:50.000</td>\n",
              "      <td>5</td>\n",
              "      <td>1.65</td>\n",
              "      <td>1</td>\n",
              "      <td>79</td>\n",
              "      <td>170</td>\n",
              "      <td>2</td>\n",
              "      <td>12.30</td>\n",
              "    </tr>\n",
              "    <tr>\n",
              "      <th>2</th>\n",
              "      <td>2019-07-13T00:30:55.000</td>\n",
              "      <td>2019-07-13T00:38:03.000</td>\n",
              "      <td>5</td>\n",
              "      <td>1.46</td>\n",
              "      <td>1</td>\n",
              "      <td>79</td>\n",
              "      <td>137</td>\n",
              "      <td>2</td>\n",
              "      <td>10.80</td>\n",
              "    </tr>\n",
              "    <tr>\n",
              "      <th>3</th>\n",
              "      <td>2019-07-13T00:31:55.000</td>\n",
              "      <td>2019-07-13T00:52:57.000</td>\n",
              "      <td>1</td>\n",
              "      <td>9.96</td>\n",
              "      <td>1</td>\n",
              "      <td>138</td>\n",
              "      <td>162</td>\n",
              "      <td>2</td>\n",
              "      <td>38.92</td>\n",
              "    </tr>\n",
              "    <tr>\n",
              "      <th>4</th>\n",
              "      <td>2019-07-12T23:59:40.000</td>\n",
              "      <td>2019-07-13T00:06:12.000</td>\n",
              "      <td>1</td>\n",
              "      <td>0.87</td>\n",
              "      <td>1</td>\n",
              "      <td>249</td>\n",
              "      <td>114</td>\n",
              "      <td>1</td>\n",
              "      <td>11.76</td>\n",
              "    </tr>\n",
              "  </tbody>\n",
              "</table>\n",
              "</div>\n",
              "    <div class=\"colab-df-buttons\">\n",
              "\n",
              "  <div class=\"colab-df-container\">\n",
              "    <button class=\"colab-df-convert\" onclick=\"convertToInteractive('df-fdf10faa-6ebd-4653-9bf3-56b88ed00037')\"\n",
              "            title=\"Convert this dataframe to an interactive table.\"\n",
              "            style=\"display:none;\">\n",
              "\n",
              "  <svg xmlns=\"http://www.w3.org/2000/svg\" height=\"24px\" viewBox=\"0 -960 960 960\">\n",
              "    <path d=\"M120-120v-720h720v720H120Zm60-500h600v-160H180v160Zm220 220h160v-160H400v160Zm0 220h160v-160H400v160ZM180-400h160v-160H180v160Zm440 0h160v-160H620v160ZM180-180h160v-160H180v160Zm440 0h160v-160H620v160Z\"/>\n",
              "  </svg>\n",
              "    </button>\n",
              "\n",
              "  <style>\n",
              "    .colab-df-container {\n",
              "      display:flex;\n",
              "      gap: 12px;\n",
              "    }\n",
              "\n",
              "    .colab-df-convert {\n",
              "      background-color: #E8F0FE;\n",
              "      border: none;\n",
              "      border-radius: 50%;\n",
              "      cursor: pointer;\n",
              "      display: none;\n",
              "      fill: #1967D2;\n",
              "      height: 32px;\n",
              "      padding: 0 0 0 0;\n",
              "      width: 32px;\n",
              "    }\n",
              "\n",
              "    .colab-df-convert:hover {\n",
              "      background-color: #E2EBFA;\n",
              "      box-shadow: 0px 1px 2px rgba(60, 64, 67, 0.3), 0px 1px 3px 1px rgba(60, 64, 67, 0.15);\n",
              "      fill: #174EA6;\n",
              "    }\n",
              "\n",
              "    .colab-df-buttons div {\n",
              "      margin-bottom: 4px;\n",
              "    }\n",
              "\n",
              "    [theme=dark] .colab-df-convert {\n",
              "      background-color: #3B4455;\n",
              "      fill: #D2E3FC;\n",
              "    }\n",
              "\n",
              "    [theme=dark] .colab-df-convert:hover {\n",
              "      background-color: #434B5C;\n",
              "      box-shadow: 0px 1px 3px 1px rgba(0, 0, 0, 0.15);\n",
              "      filter: drop-shadow(0px 1px 2px rgba(0, 0, 0, 0.3));\n",
              "      fill: #FFFFFF;\n",
              "    }\n",
              "  </style>\n",
              "\n",
              "    <script>\n",
              "      const buttonEl =\n",
              "        document.querySelector('#df-fdf10faa-6ebd-4653-9bf3-56b88ed00037 button.colab-df-convert');\n",
              "      buttonEl.style.display =\n",
              "        google.colab.kernel.accessAllowed ? 'block' : 'none';\n",
              "\n",
              "      async function convertToInteractive(key) {\n",
              "        const element = document.querySelector('#df-fdf10faa-6ebd-4653-9bf3-56b88ed00037');\n",
              "        const dataTable =\n",
              "          await google.colab.kernel.invokeFunction('convertToInteractive',\n",
              "                                                    [key], {});\n",
              "        if (!dataTable) return;\n",
              "\n",
              "        const docLinkHtml = 'Like what you see? Visit the ' +\n",
              "          '<a target=\"_blank\" href=https://colab.research.google.com/notebooks/data_table.ipynb>data table notebook</a>'\n",
              "          + ' to learn more about interactive tables.';\n",
              "        element.innerHTML = '';\n",
              "        dataTable['output_type'] = 'display_data';\n",
              "        await google.colab.output.renderOutput(dataTable, element);\n",
              "        const docLink = document.createElement('div');\n",
              "        docLink.innerHTML = docLinkHtml;\n",
              "        element.appendChild(docLink);\n",
              "      }\n",
              "    </script>\n",
              "  </div>\n",
              "\n",
              "\n",
              "<div id=\"df-cded25f9-5e66-4b1f-8c3f-dec96fed473c\">\n",
              "  <button class=\"colab-df-quickchart\" onclick=\"quickchart('df-cded25f9-5e66-4b1f-8c3f-dec96fed473c')\"\n",
              "            title=\"Suggest charts\"\n",
              "            style=\"display:none;\">\n",
              "\n",
              "<svg xmlns=\"http://www.w3.org/2000/svg\" height=\"24px\"viewBox=\"0 0 24 24\"\n",
              "     width=\"24px\">\n",
              "    <g>\n",
              "        <path d=\"M19 3H5c-1.1 0-2 .9-2 2v14c0 1.1.9 2 2 2h14c1.1 0 2-.9 2-2V5c0-1.1-.9-2-2-2zM9 17H7v-7h2v7zm4 0h-2V7h2v10zm4 0h-2v-4h2v4z\"/>\n",
              "    </g>\n",
              "</svg>\n",
              "  </button>\n",
              "\n",
              "<style>\n",
              "  .colab-df-quickchart {\n",
              "      --bg-color: #E8F0FE;\n",
              "      --fill-color: #1967D2;\n",
              "      --hover-bg-color: #E2EBFA;\n",
              "      --hover-fill-color: #174EA6;\n",
              "      --disabled-fill-color: #AAA;\n",
              "      --disabled-bg-color: #DDD;\n",
              "  }\n",
              "\n",
              "  [theme=dark] .colab-df-quickchart {\n",
              "      --bg-color: #3B4455;\n",
              "      --fill-color: #D2E3FC;\n",
              "      --hover-bg-color: #434B5C;\n",
              "      --hover-fill-color: #FFFFFF;\n",
              "      --disabled-bg-color: #3B4455;\n",
              "      --disabled-fill-color: #666;\n",
              "  }\n",
              "\n",
              "  .colab-df-quickchart {\n",
              "    background-color: var(--bg-color);\n",
              "    border: none;\n",
              "    border-radius: 50%;\n",
              "    cursor: pointer;\n",
              "    display: none;\n",
              "    fill: var(--fill-color);\n",
              "    height: 32px;\n",
              "    padding: 0;\n",
              "    width: 32px;\n",
              "  }\n",
              "\n",
              "  .colab-df-quickchart:hover {\n",
              "    background-color: var(--hover-bg-color);\n",
              "    box-shadow: 0 1px 2px rgba(60, 64, 67, 0.3), 0 1px 3px 1px rgba(60, 64, 67, 0.15);\n",
              "    fill: var(--button-hover-fill-color);\n",
              "  }\n",
              "\n",
              "  .colab-df-quickchart-complete:disabled,\n",
              "  .colab-df-quickchart-complete:disabled:hover {\n",
              "    background-color: var(--disabled-bg-color);\n",
              "    fill: var(--disabled-fill-color);\n",
              "    box-shadow: none;\n",
              "  }\n",
              "\n",
              "  .colab-df-spinner {\n",
              "    border: 2px solid var(--fill-color);\n",
              "    border-color: transparent;\n",
              "    border-bottom-color: var(--fill-color);\n",
              "    animation:\n",
              "      spin 1s steps(1) infinite;\n",
              "  }\n",
              "\n",
              "  @keyframes spin {\n",
              "    0% {\n",
              "      border-color: transparent;\n",
              "      border-bottom-color: var(--fill-color);\n",
              "      border-left-color: var(--fill-color);\n",
              "    }\n",
              "    20% {\n",
              "      border-color: transparent;\n",
              "      border-left-color: var(--fill-color);\n",
              "      border-top-color: var(--fill-color);\n",
              "    }\n",
              "    30% {\n",
              "      border-color: transparent;\n",
              "      border-left-color: var(--fill-color);\n",
              "      border-top-color: var(--fill-color);\n",
              "      border-right-color: var(--fill-color);\n",
              "    }\n",
              "    40% {\n",
              "      border-color: transparent;\n",
              "      border-right-color: var(--fill-color);\n",
              "      border-top-color: var(--fill-color);\n",
              "    }\n",
              "    60% {\n",
              "      border-color: transparent;\n",
              "      border-right-color: var(--fill-color);\n",
              "    }\n",
              "    80% {\n",
              "      border-color: transparent;\n",
              "      border-right-color: var(--fill-color);\n",
              "      border-bottom-color: var(--fill-color);\n",
              "    }\n",
              "    90% {\n",
              "      border-color: transparent;\n",
              "      border-bottom-color: var(--fill-color);\n",
              "    }\n",
              "  }\n",
              "</style>\n",
              "\n",
              "  <script>\n",
              "    async function quickchart(key) {\n",
              "      const quickchartButtonEl =\n",
              "        document.querySelector('#' + key + ' button');\n",
              "      quickchartButtonEl.disabled = true;  // To prevent multiple clicks.\n",
              "      quickchartButtonEl.classList.add('colab-df-spinner');\n",
              "      try {\n",
              "        const charts = await google.colab.kernel.invokeFunction(\n",
              "            'suggestCharts', [key], {});\n",
              "      } catch (error) {\n",
              "        console.error('Error during call to suggestCharts:', error);\n",
              "      }\n",
              "      quickchartButtonEl.classList.remove('colab-df-spinner');\n",
              "      quickchartButtonEl.classList.add('colab-df-quickchart-complete');\n",
              "    }\n",
              "    (() => {\n",
              "      let quickchartButtonEl =\n",
              "        document.querySelector('#df-cded25f9-5e66-4b1f-8c3f-dec96fed473c button');\n",
              "      quickchartButtonEl.style.display =\n",
              "        google.colab.kernel.accessAllowed ? 'block' : 'none';\n",
              "    })();\n",
              "  </script>\n",
              "</div>\n",
              "\n",
              "    </div>\n",
              "  </div>\n"
            ],
            "application/vnd.google.colaboratory.intrinsic+json": {
              "type": "dataframe",
              "variable_name": "taxi_data",
              "summary": "{\n  \"name\": \"taxi_data\",\n  \"rows\": 1000,\n  \"fields\": [\n    {\n      \"column\": \"tpep_pickup_datetime\",\n      \"properties\": {\n        \"dtype\": \"object\",\n        \"num_unique_values\": 884,\n        \"samples\": [\n          \"2019-07-13T00:16:32.000\",\n          \"2019-07-13T00:16:15.000\",\n          \"2019-07-13T00:14:49.000\"\n        ],\n        \"semantic_type\": \"\",\n        \"description\": \"\"\n      }\n    },\n    {\n      \"column\": \"tpep_dropoff_datetime\",\n      \"properties\": {\n        \"dtype\": \"object\",\n        \"num_unique_values\": 884,\n        \"samples\": [\n          \"2019-07-13T00:22:18.000\",\n          \"2019-07-13T00:11:35.000\",\n          \"2019-07-13T01:10:13.000\"\n        ],\n        \"semantic_type\": \"\",\n        \"description\": \"\"\n      }\n    },\n    {\n      \"column\": \"passenger_count\",\n      \"properties\": {\n        \"dtype\": \"number\",\n        \"std\": 1,\n        \"min\": 0,\n        \"max\": 6,\n        \"num_unique_values\": 7,\n        \"samples\": [\n          1,\n          5,\n          3\n        ],\n        \"semantic_type\": \"\",\n        \"description\": \"\"\n      }\n    },\n    {\n      \"column\": \"trip_distance\",\n      \"properties\": {\n        \"dtype\": \"number\",\n        \"std\": 3.9601420900358217,\n        \"min\": 0.0,\n        \"max\": 37.18,\n        \"num_unique_values\": 479,\n        \"samples\": [\n          3.66,\n          6.2,\n          3.47\n        ],\n        \"semantic_type\": \"\",\n        \"description\": \"\"\n      }\n    },\n    {\n      \"column\": \"ratecodeid\",\n      \"properties\": {\n        \"dtype\": \"number\",\n        \"std\": 0,\n        \"min\": 1,\n        \"max\": 5,\n        \"num_unique_values\": 3,\n        \"samples\": [\n          1,\n          2,\n          5\n        ],\n        \"semantic_type\": \"\",\n        \"description\": \"\"\n      }\n    },\n    {\n      \"column\": \"pulocationid\",\n      \"properties\": {\n        \"dtype\": \"number\",\n        \"std\": 61,\n        \"min\": 4,\n        \"max\": 265,\n        \"num_unique_values\": 80,\n        \"samples\": [\n          151,\n          48,\n          90\n        ],\n        \"semantic_type\": \"\",\n        \"description\": \"\"\n      }\n    },\n    {\n      \"column\": \"dolocationid\",\n      \"properties\": {\n        \"dtype\": \"number\",\n        \"std\": 70,\n        \"min\": 4,\n        \"max\": 265,\n        \"num_unique_values\": 133,\n        \"samples\": [\n          256,\n          124,\n          161\n        ],\n        \"semantic_type\": \"\",\n        \"description\": \"\"\n      }\n    },\n    {\n      \"column\": \"payment_type\",\n      \"properties\": {\n        \"dtype\": \"number\",\n        \"std\": 0,\n        \"min\": 1,\n        \"max\": 3,\n        \"num_unique_values\": 3,\n        \"samples\": [\n          1,\n          2,\n          3\n        ],\n        \"semantic_type\": \"\",\n        \"description\": \"\"\n      }\n    },\n    {\n      \"column\": \"total_amount\",\n      \"properties\": {\n        \"dtype\": \"number\",\n        \"std\": 14.866302479696076,\n        \"min\": -55.3,\n        \"max\": 162.8,\n        \"num_unique_values\": 334,\n        \"samples\": [\n          8.4,\n          37.88,\n          95.52\n        ],\n        \"semantic_type\": \"\",\n        \"description\": \"\"\n      }\n    }\n  ]\n}"
            }
          },
          "metadata": {},
          "execution_count": 12
        }
      ],
      "source": [
        "taxi_data.head()"
      ]
    },
    {
      "cell_type": "code",
      "execution_count": 13,
      "metadata": {
        "id": "Sj_Y9NLOZFv4",
        "outputId": "70e9790f-0d6a-49c1-a3c9-ae85dd0aba4a",
        "colab": {
          "base_uri": "https://localhost:8080/",
          "height": 855
        }
      },
      "outputs": [
        {
          "output_type": "execute_result",
          "data": {
            "text/plain": [
              "array([[<Axes: title={'center': 'passenger_count'}>,\n",
              "        <Axes: title={'center': 'trip_distance'}>,\n",
              "        <Axes: title={'center': 'ratecodeid'}>],\n",
              "       [<Axes: title={'center': 'pulocationid'}>,\n",
              "        <Axes: title={'center': 'dolocationid'}>,\n",
              "        <Axes: title={'center': 'payment_type'}>],\n",
              "       [<Axes: title={'center': 'total_amount'}>, <Axes: >, <Axes: >]],\n",
              "      dtype=object)"
            ]
          },
          "metadata": {},
          "execution_count": 13
        },
        {
          "output_type": "display_data",
          "data": {
            "text/plain": [
              "<Figure size 2000x1000 with 9 Axes>"
            ],
            "image/png": "[encoded data removed]"
          },
          "metadata": {}
        }
      ],
      "source": [
        "taxi_data.hist(figsize=(20,10), bins=60)"
      ]
    },
    {
      "cell_type": "code",
      "execution_count": null,
      "metadata": {
        "id": "-faNJ22nZFv4",
        "outputId": "0dceb94c-f8e3-4d2c-e17e-bcbf103ad8a2"
      },
      "outputs": [
        {
          "data": {
            "text/plain": [
              "1     7430139\n",
              "2      166090\n",
              "5       54569\n",
              "3       11801\n",
              "4        4895\n",
              "99        252\n",
              "6          46\n",
              "Name: RatecodeID, dtype: int64"
            ]
          },
          "execution_count": 49,
          "metadata": {},
          "output_type": "execute_result"
        }
      ],
      "source": [
        "taxi_data['RatecodeID'].value_counts()"
      ]
    },
    {
      "cell_type": "code",
      "execution_count": null,
      "metadata": {
        "id": "gDnr_o5HZFv4",
        "outputId": "d53e9fdb-1505-4cc9-9644-23d8136d72e9"
      },
      "outputs": [
        {
          "data": {
            "text/plain": [
              "<matplotlib.axes._subplots.AxesSubplot at 0x7fb4ec52c430>"
            ]
          },
          "execution_count": 50,
          "metadata": {},
          "output_type": "execute_result"
        },
        {
          "data": {
            "image/png": "[encoded data removed]",
            "text/plain": [
              "<Figure size 720x360 with 1 Axes>"
            ]
          },
          "metadata": {
            "needs_background": "light"
          },
          "output_type": "display_data"
        }
      ],
      "source": [
        "taxi_data.reset_index().plot(kind='scatter', y='total_amount', x='index', figsize=(10,5))"
      ]
    },
    {
      "cell_type": "code",
      "execution_count": null,
      "metadata": {
        "id": "GwkrmFazZFv5",
        "outputId": "cbe89ae9-b86e-4bca-a2cd-695e5c5173f4"
      },
      "outputs": [
        {
          "data": {
            "text/plain": [
              "<matplotlib.axes._subplots.AxesSubplot at 0x7fb4edbad640>"
            ]
          },
          "execution_count": 51,
          "metadata": {},
          "output_type": "execute_result"
        },
        {
          "data": {
            "image/png": "[encoded data removed]",
            "text/plain": [
              "<Figure size 720x360 with 1 Axes>"
            ]
          },
          "metadata": {
            "needs_background": "light"
          },
          "output_type": "display_data"
        }
      ],
      "source": [
        "taxi_data[taxi_data['total_amount']<1000].reset_index().plot(kind='scatter', y='total_amount', x='index', figsize=(10,5))"
      ]
    },
    {
      "cell_type": "markdown",
      "metadata": {
        "id": "-RJK7rrxZFv5"
      },
      "source": [
        "Two things to deal with: negative values and very high values. Let's first look at negative values."
      ]
    },
    {
      "cell_type": "code",
      "execution_count": null,
      "metadata": {
        "id": "AAs2JTQYZFv6",
        "outputId": "3a339c27-16be-47bf-fc53-a91972b50bcc"
      },
      "outputs": [
        {
          "name": "stdout",
          "output_type": "stream",
          "text": [
            "(7131, 9)\n"
          ]
        },
        {
          "data": {
            "text/plain": [
              "<matplotlib.axes._subplots.AxesSubplot at 0x7fb4d983ceb0>"
            ]
          },
          "execution_count": 52,
          "metadata": {},
          "output_type": "execute_result"
        },
        {
          "data": {
            "image/png": "[encoded data removed]",
            "text/plain": [
              "<Figure size 720x360 with 1 Axes>"
            ]
          },
          "metadata": {
            "needs_background": "light"
          },
          "output_type": "display_data"
        }
      ],
      "source": [
        "print(taxi_data[taxi_data['total_amount']<0].shape)\n",
        "taxi_data[taxi_data['total_amount']<0].reset_index().plot(kind='scatter', y='total_amount', x='index', figsize=(10,5))\n"
      ]
    },
    {
      "cell_type": "code",
      "execution_count": null,
      "metadata": {
        "id": "Pt67Dc0UZFv6",
        "outputId": "26b45969-6f3a-45c9-cf32-f3118fabd226"
      },
      "outputs": [
        {
          "data": {
            "text/html": [
              "<div>\n",
              "<style scoped>\n",
              "    .dataframe tbody tr th:only-of-type {\n",
              "        vertical-align: middle;\n",
              "    }\n",
              "\n",
              "    .dataframe tbody tr th {\n",
              "        vertical-align: top;\n",
              "    }\n",
              "\n",
              "    .dataframe thead th {\n",
              "        text-align: right;\n",
              "    }\n",
              "</style>\n",
              "<table border=\"1\" class=\"dataframe\">\n",
              "  <thead>\n",
              "    <tr style=\"text-align: right;\">\n",
              "      <th></th>\n",
              "      <th>tpep_pickup_datetime</th>\n",
              "      <th>tpep_dropoff_datetime</th>\n",
              "      <th>passenger_count</th>\n",
              "      <th>trip_distance</th>\n",
              "      <th>RatecodeID</th>\n",
              "      <th>PULocationID</th>\n",
              "      <th>DOLocationID</th>\n",
              "      <th>payment_type</th>\n",
              "      <th>total_amount</th>\n",
              "    </tr>\n",
              "  </thead>\n",
              "  <tbody>\n",
              "    <tr>\n",
              "      <th>663</th>\n",
              "      <td>2019-01-01 00:32:56</td>\n",
              "      <td>2019-01-01 00:33:35</td>\n",
              "      <td>2</td>\n",
              "      <td>0.10</td>\n",
              "      <td>1</td>\n",
              "      <td>148</td>\n",
              "      <td>148</td>\n",
              "      <td>3</td>\n",
              "      <td>-3.8</td>\n",
              "    </tr>\n",
              "    <tr>\n",
              "      <th>2402</th>\n",
              "      <td>2019-01-01 00:14:18</td>\n",
              "      <td>2019-01-01 00:40:55</td>\n",
              "      <td>1</td>\n",
              "      <td>4.13</td>\n",
              "      <td>1</td>\n",
              "      <td>170</td>\n",
              "      <td>238</td>\n",
              "      <td>4</td>\n",
              "      <td>-20.3</td>\n",
              "    </tr>\n",
              "    <tr>\n",
              "      <th>2541</th>\n",
              "      <td>2019-01-01 00:31:27</td>\n",
              "      <td>2019-01-01 00:42:39</td>\n",
              "      <td>1</td>\n",
              "      <td>1.35</td>\n",
              "      <td>1</td>\n",
              "      <td>162</td>\n",
              "      <td>234</td>\n",
              "      <td>4</td>\n",
              "      <td>-9.8</td>\n",
              "    </tr>\n",
              "    <tr>\n",
              "      <th>2544</th>\n",
              "      <td>2019-01-01 00:45:57</td>\n",
              "      <td>2019-01-01 00:46:07</td>\n",
              "      <td>1</td>\n",
              "      <td>0.00</td>\n",
              "      <td>1</td>\n",
              "      <td>234</td>\n",
              "      <td>234</td>\n",
              "      <td>4</td>\n",
              "      <td>-3.8</td>\n",
              "    </tr>\n",
              "    <tr>\n",
              "      <th>2547</th>\n",
              "      <td>2019-01-01 00:48:35</td>\n",
              "      <td>2019-01-01 00:49:59</td>\n",
              "      <td>1</td>\n",
              "      <td>0.16</td>\n",
              "      <td>1</td>\n",
              "      <td>234</td>\n",
              "      <td>234</td>\n",
              "      <td>4</td>\n",
              "      <td>-4.3</td>\n",
              "    </tr>\n",
              "  </tbody>\n",
              "</table>\n",
              "</div>"
            ],
            "text/plain": [
              "     tpep_pickup_datetime tpep_dropoff_datetime  passenger_count  \\\n",
              "663   2019-01-01 00:32:56   2019-01-01 00:33:35                2   \n",
              "2402  2019-01-01 00:14:18   2019-01-01 00:40:55                1   \n",
              "2541  2019-01-01 00:31:27   2019-01-01 00:42:39                1   \n",
              "2544  2019-01-01 00:45:57   2019-01-01 00:46:07                1   \n",
              "2547  2019-01-01 00:48:35   2019-01-01 00:49:59                1   \n",
              "\n",
              "      trip_distance  RatecodeID  PULocationID  DOLocationID  payment_type  \\\n",
              "663            0.10           1           148           148             3   \n",
              "2402           4.13           1           170           238             4   \n",
              "2541           1.35           1           162           234             4   \n",
              "2544           0.00           1           234           234             4   \n",
              "2547           0.16           1           234           234             4   \n",
              "\n",
              "      total_amount  \n",
              "663           -3.8  \n",
              "2402         -20.3  \n",
              "2541          -9.8  \n",
              "2544          -3.8  \n",
              "2547          -4.3  "
            ]
          },
          "execution_count": 53,
          "metadata": {},
          "output_type": "execute_result"
        }
      ],
      "source": [
        "taxi_data[taxi_data['total_amount']<0].head()"
      ]
    },
    {
      "cell_type": "code",
      "execution_count": null,
      "metadata": {
        "id": "4FOhyvpiZFv8",
        "outputId": "441df5d3-d598-4c24-94d4-fccc036ed572"
      },
      "outputs": [
        {
          "data": {
            "text/plain": [
              "3    4088\n",
              "4    2666\n",
              "2     376\n",
              "1       1\n",
              "Name: payment_type, dtype: int64"
            ]
          },
          "execution_count": 54,
          "metadata": {},
          "output_type": "execute_result"
        }
      ],
      "source": [
        "taxi_data[taxi_data['total_amount']<0]['payment_type'].value_counts()"
      ]
    },
    {
      "cell_type": "code",
      "execution_count": null,
      "metadata": {
        "id": "KofKqNHhZFv8",
        "outputId": "c2c9f5f8-78e0-4072-e8f2-b0c1423344b6"
      },
      "outputs": [
        {
          "data": {
            "text/plain": [
              "<matplotlib.axes._subplots.AxesSubplot at 0x7fb4bc600700>"
            ]
          },
          "execution_count": 55,
          "metadata": {},
          "output_type": "execute_result"
        },
        {
          "data": {
            "image/png": "[encoded data removed]",
            "text/plain": [
              "<Figure size 720x360 with 1 Axes>"
            ]
          },
          "metadata": {
            "needs_background": "light"
          },
          "output_type": "display_data"
        }
      ],
      "source": [
        "taxi_data[taxi_data['total_amount']<0]['trip_distance'].hist(bins=60, figsize=(10,5))"
      ]
    },
    {
      "cell_type": "code",
      "execution_count": null,
      "metadata": {
        "id": "bgsCy8xkZFv8",
        "outputId": "3da364a3-e559-4008-ddb6-9bfe60783433"
      },
      "outputs": [
        {
          "name": "stdout",
          "output_type": "stream",
          "text": [
            "(1414, 9)\n"
          ]
        },
        {
          "data": {
            "text/html": [
              "<div>\n",
              "<style scoped>\n",
              "    .dataframe tbody tr th:only-of-type {\n",
              "        vertical-align: middle;\n",
              "    }\n",
              "\n",
              "    .dataframe tbody tr th {\n",
              "        vertical-align: top;\n",
              "    }\n",
              "\n",
              "    .dataframe thead th {\n",
              "        text-align: right;\n",
              "    }\n",
              "</style>\n",
              "<table border=\"1\" class=\"dataframe\">\n",
              "  <thead>\n",
              "    <tr style=\"text-align: right;\">\n",
              "      <th></th>\n",
              "      <th>tpep_pickup_datetime</th>\n",
              "      <th>tpep_dropoff_datetime</th>\n",
              "      <th>passenger_count</th>\n",
              "      <th>trip_distance</th>\n",
              "      <th>RatecodeID</th>\n",
              "      <th>PULocationID</th>\n",
              "      <th>DOLocationID</th>\n",
              "      <th>payment_type</th>\n",
              "      <th>total_amount</th>\n",
              "    </tr>\n",
              "  </thead>\n",
              "  <tbody>\n",
              "    <tr>\n",
              "      <th>3552</th>\n",
              "      <td>2019-01-01 00:18:46</td>\n",
              "      <td>2019-01-01 00:18:46</td>\n",
              "      <td>1</td>\n",
              "      <td>0.0</td>\n",
              "      <td>5</td>\n",
              "      <td>186</td>\n",
              "      <td>264</td>\n",
              "      <td>2</td>\n",
              "      <td>0.0</td>\n",
              "    </tr>\n",
              "    <tr>\n",
              "      <th>9138</th>\n",
              "      <td>2019-01-01 00:41:47</td>\n",
              "      <td>2019-01-01 00:41:47</td>\n",
              "      <td>1</td>\n",
              "      <td>0.0</td>\n",
              "      <td>5</td>\n",
              "      <td>246</td>\n",
              "      <td>264</td>\n",
              "      <td>2</td>\n",
              "      <td>0.0</td>\n",
              "    </tr>\n",
              "    <tr>\n",
              "      <th>13256</th>\n",
              "      <td>2019-01-01 00:19:38</td>\n",
              "      <td>2019-01-01 00:20:35</td>\n",
              "      <td>1</td>\n",
              "      <td>0.0</td>\n",
              "      <td>1</td>\n",
              "      <td>193</td>\n",
              "      <td>193</td>\n",
              "      <td>1</td>\n",
              "      <td>0.0</td>\n",
              "    </tr>\n",
              "    <tr>\n",
              "      <th>13257</th>\n",
              "      <td>2019-01-01 00:43:34</td>\n",
              "      <td>2019-01-01 00:43:34</td>\n",
              "      <td>1</td>\n",
              "      <td>0.0</td>\n",
              "      <td>1</td>\n",
              "      <td>7</td>\n",
              "      <td>7</td>\n",
              "      <td>2</td>\n",
              "      <td>0.0</td>\n",
              "    </tr>\n",
              "    <tr>\n",
              "      <th>13258</th>\n",
              "      <td>2019-01-01 00:02:52</td>\n",
              "      <td>2019-01-01 00:02:52</td>\n",
              "      <td>1</td>\n",
              "      <td>0.0</td>\n",
              "      <td>1</td>\n",
              "      <td>264</td>\n",
              "      <td>7</td>\n",
              "      <td>2</td>\n",
              "      <td>0.0</td>\n",
              "    </tr>\n",
              "  </tbody>\n",
              "</table>\n",
              "</div>"
            ],
            "text/plain": [
              "      tpep_pickup_datetime tpep_dropoff_datetime  passenger_count  \\\n",
              "3552   2019-01-01 00:18:46   2019-01-01 00:18:46                1   \n",
              "9138   2019-01-01 00:41:47   2019-01-01 00:41:47                1   \n",
              "13256  2019-01-01 00:19:38   2019-01-01 00:20:35                1   \n",
              "13257  2019-01-01 00:43:34   2019-01-01 00:43:34                1   \n",
              "13258  2019-01-01 00:02:52   2019-01-01 00:02:52                1   \n",
              "\n",
              "       trip_distance  RatecodeID  PULocationID  DOLocationID  payment_type  \\\n",
              "3552             0.0           5           186           264             2   \n",
              "9138             0.0           5           246           264             2   \n",
              "13256            0.0           1           193           193             1   \n",
              "13257            0.0           1             7             7             2   \n",
              "13258            0.0           1           264             7             2   \n",
              "\n",
              "       total_amount  \n",
              "3552            0.0  \n",
              "9138            0.0  \n",
              "13256           0.0  \n",
              "13257           0.0  \n",
              "13258           0.0  "
            ]
          },
          "execution_count": 56,
          "metadata": {},
          "output_type": "execute_result"
        }
      ],
      "source": [
        "print(taxi_data[taxi_data['total_amount']==0].shape)\n",
        "taxi_data[taxi_data['total_amount']==0].head()"
      ]
    },
    {
      "cell_type": "code",
      "execution_count": null,
      "metadata": {
        "id": "NgKvLjtyZFv9",
        "outputId": "8f381467-77f6-42dd-a766-c5cf49e0f0ce"
      },
      "outputs": [
        {
          "data": {
            "text/plain": [
              "1    815\n",
              "2    569\n",
              "3     29\n",
              "4      1\n",
              "Name: payment_type, dtype: int64"
            ]
          },
          "execution_count": 57,
          "metadata": {},
          "output_type": "execute_result"
        }
      ],
      "source": [
        "taxi_data[taxi_data['total_amount']==0]['payment_type'].value_counts()"
      ]
    },
    {
      "cell_type": "code",
      "execution_count": null,
      "metadata": {
        "id": "MUQBMeyXZFv9",
        "outputId": "5ebdd2d6-8ff0-4b6c-bc6f-81599c820f6b"
      },
      "outputs": [
        {
          "data": {
            "text/plain": [
              "<matplotlib.axes._subplots.AxesSubplot at 0x7fb4ec80cbe0>"
            ]
          },
          "execution_count": 58,
          "metadata": {},
          "output_type": "execute_result"
        },
        {
          "data": {
            "image/png": "[encoded data removed]",
            "text/plain": [
              "<Figure size 720x360 with 1 Axes>"
            ]
          },
          "metadata": {
            "needs_background": "light"
          },
          "output_type": "display_data"
        }
      ],
      "source": [
        "taxi_data[taxi_data['total_amount']==0]['trip_distance'].hist(bins=60, figsize=(10,5))"
      ]
    },
    {
      "cell_type": "code",
      "execution_count": null,
      "metadata": {
        "id": "Wzh_VlIyZFv9",
        "outputId": "c176109c-7b47-4f0f-f2f7-10429306385c"
      },
      "outputs": [
        {
          "data": {
            "text/plain": [
              "0.00    1270\n",
              "1.00       4\n",
              "0.01       4\n",
              "0.02       4\n",
              "0.03       3\n",
              "        ... \n",
              "0.59       1\n",
              "0.18       1\n",
              "5.70       1\n",
              "0.87       1\n",
              "1.04       1\n",
              "Name: trip_distance, Length: 110, dtype: int64"
            ]
          },
          "execution_count": 59,
          "metadata": {},
          "output_type": "execute_result"
        }
      ],
      "source": [
        "taxi_data[taxi_data['total_amount']==0]['trip_distance'].value_counts()"
      ]
    },
    {
      "cell_type": "markdown",
      "metadata": {
        "id": "3oF_qwPyZFv9"
      },
      "source": [
        "We can safely get rid of the negative values. What about the very high values?"
      ]
    },
    {
      "cell_type": "code",
      "execution_count": null,
      "metadata": {
        "id": "Zc0ckKE_ZFv-",
        "outputId": "f93c2a3b-363d-40ae-d92f-5d0dbfd3be15"
      },
      "outputs": [
        {
          "data": {
            "text/plain": [
              "<matplotlib.axes._subplots.AxesSubplot at 0x7fb4bd2faa30>"
            ]
          },
          "execution_count": 60,
          "metadata": {},
          "output_type": "execute_result"
        },
        {
          "data": {
            "image/png": "[encoded data removed]",
            "text/plain": [
              "<Figure size 720x360 with 1 Axes>"
            ]
          },
          "metadata": {
            "needs_background": "light"
          },
          "output_type": "display_data"
        }
      ],
      "source": [
        "taxi_data.reset_index().plot(kind='scatter', y='total_amount', x='index', figsize=(10,5))"
      ]
    },
    {
      "cell_type": "code",
      "execution_count": null,
      "metadata": {
        "id": "udzOtCzUZFv-",
        "outputId": "cab3ea8e-4f5d-4c75-af2c-639a17da067d"
      },
      "outputs": [
        {
          "data": {
            "text/plain": [
              "(1166, 9)"
            ]
          },
          "execution_count": 61,
          "metadata": {},
          "output_type": "execute_result"
        }
      ],
      "source": [
        "taxi_data[taxi_data['total_amount']>200].shape"
      ]
    },
    {
      "cell_type": "code",
      "execution_count": null,
      "metadata": {
        "id": "8pD1qeOPZFv-",
        "outputId": "76bf6e96-72e5-40a3-f549-78ac781a164a"
      },
      "outputs": [
        {
          "data": {
            "text/plain": [
              "15.68222215901336"
            ]
          },
          "execution_count": 62,
          "metadata": {},
          "output_type": "execute_result"
        }
      ],
      "source": [
        "taxi_data['total_amount'].mean()"
      ]
    },
    {
      "cell_type": "markdown",
      "metadata": {
        "id": "0Im_YjkRZFv_"
      },
      "source": [
        "We can agree to cut from $200 level."
      ]
    },
    {
      "cell_type": "markdown",
      "metadata": {
        "id": "7p9KwKb2ZFv_"
      },
      "source": [
        "# 3. Data cleaning <a id='data_cleaning'></a>\n",
        "[Back to top](#table_of_contents)"
      ]
    },
    {
      "cell_type": "code",
      "execution_count": null,
      "metadata": {
        "id": "Kkuc04EgZFv_"
      },
      "outputs": [],
      "source": [
        "taxi_data_filtered = taxi_data[(taxi_data['total_amount']>=0)&(taxi_data['total_amount']<200)]"
      ]
    },
    {
      "cell_type": "code",
      "execution_count": null,
      "metadata": {
        "id": "oKCbEJRbZFv_",
        "outputId": "3761d67f-d056-4550-b74e-d3a4a64ee491"
      },
      "outputs": [
        {
          "name": "stdout",
          "output_type": "stream",
          "text": [
            "(7667792, 9)\n"
          ]
        },
        {
          "data": {
            "text/plain": [
              "(7659490, 9)"
            ]
          },
          "execution_count": 64,
          "metadata": {},
          "output_type": "execute_result"
        }
      ],
      "source": [
        "print(taxi_data.shape)\n",
        "taxi_data_filtered.shape"
      ]
    },
    {
      "cell_type": "markdown",
      "metadata": {
        "id": "tBKbMQ7TZFwA"
      },
      "source": [
        "Checking for missing values."
      ]
    },
    {
      "cell_type": "code",
      "execution_count": null,
      "metadata": {
        "id": "DMAiCFLvZFwA",
        "outputId": "36f023d5-e30b-49fe-9592-f2caa418b3be"
      },
      "outputs": [
        {
          "data": {
            "text/plain": [
              "tpep_pickup_datetime     0\n",
              "tpep_dropoff_datetime    0\n",
              "passenger_count          0\n",
              "trip_distance            0\n",
              "RatecodeID               0\n",
              "PULocationID             0\n",
              "DOLocationID             0\n",
              "payment_type             0\n",
              "total_amount             0\n",
              "dtype: int64"
            ]
          },
          "execution_count": 65,
          "metadata": {},
          "output_type": "execute_result"
        }
      ],
      "source": [
        "taxi_data_filtered.isna().sum()"
      ]
    },
    {
      "cell_type": "markdown",
      "metadata": {
        "id": "cAfazGuNZFwA"
      },
      "source": [
        "# 4. Data preparation <a id='data_preparation'></a>\n",
        "[Back to top](#table_of_contents)"
      ]
    },
    {
      "cell_type": "code",
      "execution_count": null,
      "metadata": {
        "id": "InR-Y8EUZFwB"
      },
      "outputs": [],
      "source": [
        "taxi_data_prepared = taxi_data_filtered.copy()"
      ]
    },
    {
      "cell_type": "markdown",
      "metadata": {
        "id": "hQM9lhbiZFwB"
      },
      "source": [
        "Making sure everything is in the right type"
      ]
    },
    {
      "cell_type": "code",
      "execution_count": null,
      "metadata": {
        "id": "NNCScZ4tZFwB",
        "outputId": "e302f944-2c73-455a-cc3e-4f8f4e5794c7"
      },
      "outputs": [
        {
          "data": {
            "text/plain": [
              "tpep_pickup_datetime      object\n",
              "tpep_dropoff_datetime     object\n",
              "passenger_count            int64\n",
              "trip_distance            float64\n",
              "RatecodeID                 int64\n",
              "PULocationID               int64\n",
              "DOLocationID               int64\n",
              "payment_type               int64\n",
              "total_amount             float64\n",
              "dtype: object"
            ]
          },
          "execution_count": 67,
          "metadata": {},
          "output_type": "execute_result"
        }
      ],
      "source": [
        "taxi_data_prepared.dtypes"
      ]
    },
    {
      "cell_type": "code",
      "execution_count": null,
      "metadata": {
        "id": "lS_7qgOzZFwB"
      },
      "outputs": [],
      "source": [
        "taxi_data_prepared.loc[:,'tpep_pickup_datetime'] = pd.to_datetime(taxi_data_prepared.loc[:,'tpep_pickup_datetime'])\n",
        "taxi_data_prepared.loc[:,'tpep_dropoff_datetime'] = pd.to_datetime(taxi_data_prepared.loc[:,'tpep_dropoff_datetime'])\n"
      ]
    },
    {
      "cell_type": "code",
      "execution_count": null,
      "metadata": {
        "id": "uhToIt0gZFwB"
      },
      "outputs": [],
      "source": [
        "taxi_data_prepared.loc[:,'RatecodeID']   = taxi_data_prepared['RatecodeID'].astype(str)\n",
        "taxi_data_prepared.loc[:,'PULocationID'] = taxi_data_prepared['PULocationID'].astype(str)\n",
        "taxi_data_prepared.loc[:,'DOLocationID'] = taxi_data_prepared['DOLocationID'].astype(str)\n",
        "taxi_data_prepared.loc[:,'payment_type'] = taxi_data_prepared['payment_type'].astype(str)"
      ]
    },
    {
      "cell_type": "code",
      "execution_count": null,
      "metadata": {
        "id": "-u4_f71yZFwC",
        "outputId": "d9abf642-d909-4fa3-cc1e-468ff926e79a"
      },
      "outputs": [
        {
          "data": {
            "text/plain": [
              "tpep_pickup_datetime     datetime64[ns]\n",
              "tpep_dropoff_datetime    datetime64[ns]\n",
              "passenger_count                   int64\n",
              "trip_distance                   float64\n",
              "RatecodeID                       object\n",
              "PULocationID                     object\n",
              "DOLocationID                     object\n",
              "payment_type                     object\n",
              "total_amount                    float64\n",
              "dtype: object"
            ]
          },
          "execution_count": 70,
          "metadata": {},
          "output_type": "execute_result"
        }
      ],
      "source": [
        "taxi_data_prepared.dtypes"
      ]
    },
    {
      "cell_type": "markdown",
      "metadata": {
        "id": "QtqR-7Y1ZFwC"
      },
      "source": [
        "Transforming variables into the formats we need them"
      ]
    },
    {
      "cell_type": "code",
      "execution_count": null,
      "metadata": {
        "id": "gZmMQjfxZFwC",
        "outputId": "6b7b6a32-1d6a-47c5-ab5f-8fb71c731317"
      },
      "outputs": [
        {
          "data": {
            "text/html": [
              "<div>\n",
              "<style scoped>\n",
              "    .dataframe tbody tr th:only-of-type {\n",
              "        vertical-align: middle;\n",
              "    }\n",
              "\n",
              "    .dataframe tbody tr th {\n",
              "        vertical-align: top;\n",
              "    }\n",
              "\n",
              "    .dataframe thead th {\n",
              "        text-align: right;\n",
              "    }\n",
              "</style>\n",
              "<table border=\"1\" class=\"dataframe\">\n",
              "  <thead>\n",
              "    <tr style=\"text-align: right;\">\n",
              "      <th></th>\n",
              "      <th>tpep_pickup_datetime</th>\n",
              "      <th>tpep_dropoff_datetime</th>\n",
              "      <th>passenger_count</th>\n",
              "      <th>trip_distance</th>\n",
              "      <th>RatecodeID</th>\n",
              "      <th>PULocationID</th>\n",
              "      <th>DOLocationID</th>\n",
              "      <th>payment_type</th>\n",
              "      <th>total_amount</th>\n",
              "    </tr>\n",
              "  </thead>\n",
              "  <tbody>\n",
              "    <tr>\n",
              "      <th>0</th>\n",
              "      <td>2019-01-01 00:46:40</td>\n",
              "      <td>2019-01-01 00:53:20</td>\n",
              "      <td>1</td>\n",
              "      <td>1.5</td>\n",
              "      <td>1</td>\n",
              "      <td>151</td>\n",
              "      <td>239</td>\n",
              "      <td>1</td>\n",
              "      <td>9.95</td>\n",
              "    </tr>\n",
              "    <tr>\n",
              "      <th>1</th>\n",
              "      <td>2019-01-01 00:59:47</td>\n",
              "      <td>2019-01-01 01:18:59</td>\n",
              "      <td>1</td>\n",
              "      <td>2.6</td>\n",
              "      <td>1</td>\n",
              "      <td>239</td>\n",
              "      <td>246</td>\n",
              "      <td>1</td>\n",
              "      <td>16.30</td>\n",
              "    </tr>\n",
              "    <tr>\n",
              "      <th>2</th>\n",
              "      <td>2018-12-21 13:48:30</td>\n",
              "      <td>2018-12-21 13:52:40</td>\n",
              "      <td>3</td>\n",
              "      <td>0.0</td>\n",
              "      <td>1</td>\n",
              "      <td>236</td>\n",
              "      <td>236</td>\n",
              "      <td>1</td>\n",
              "      <td>5.80</td>\n",
              "    </tr>\n",
              "    <tr>\n",
              "      <th>3</th>\n",
              "      <td>2018-11-28 15:52:25</td>\n",
              "      <td>2018-11-28 15:55:45</td>\n",
              "      <td>5</td>\n",
              "      <td>0.0</td>\n",
              "      <td>1</td>\n",
              "      <td>193</td>\n",
              "      <td>193</td>\n",
              "      <td>2</td>\n",
              "      <td>7.55</td>\n",
              "    </tr>\n",
              "    <tr>\n",
              "      <th>4</th>\n",
              "      <td>2018-11-28 15:56:57</td>\n",
              "      <td>2018-11-28 15:58:33</td>\n",
              "      <td>5</td>\n",
              "      <td>0.0</td>\n",
              "      <td>2</td>\n",
              "      <td>193</td>\n",
              "      <td>193</td>\n",
              "      <td>2</td>\n",
              "      <td>55.55</td>\n",
              "    </tr>\n",
              "  </tbody>\n",
              "</table>\n",
              "</div>"
            ],
            "text/plain": [
              "  tpep_pickup_datetime tpep_dropoff_datetime  passenger_count  trip_distance  \\\n",
              "0  2019-01-01 00:46:40   2019-01-01 00:53:20                1            1.5   \n",
              "1  2019-01-01 00:59:47   2019-01-01 01:18:59                1            2.6   \n",
              "2  2018-12-21 13:48:30   2018-12-21 13:52:40                3            0.0   \n",
              "3  2018-11-28 15:52:25   2018-11-28 15:55:45                5            0.0   \n",
              "4  2018-11-28 15:56:57   2018-11-28 15:58:33                5            0.0   \n",
              "\n",
              "  RatecodeID PULocationID DOLocationID payment_type  total_amount  \n",
              "0          1          151          239            1          9.95  \n",
              "1          1          239          246            1         16.30  \n",
              "2          1          236          236            1          5.80  \n",
              "3          1          193          193            2          7.55  \n",
              "4          2          193          193            2         55.55  "
            ]
          },
          "execution_count": 71,
          "metadata": {},
          "output_type": "execute_result"
        }
      ],
      "source": [
        "taxi_data_prepared.head()"
      ]
    },
    {
      "cell_type": "code",
      "execution_count": null,
      "metadata": {
        "id": "rGnZrfYnZFwC"
      },
      "outputs": [],
      "source": [
        "taxi_data_prepared['transaction_date'] = pd.to_datetime(taxi_data_prepared['tpep_pickup_datetime'].dt.date)\n",
        "# -> we make it datetime again because it's very little use when it's just a string (can't compare, sort, etc.)\n",
        "taxi_data_prepared['transaction_year'] = taxi_data_prepared['tpep_pickup_datetime'].dt.year\n",
        "taxi_data_prepared['transaction_month'] = taxi_data_prepared['tpep_pickup_datetime'].dt.month\n",
        "taxi_data_prepared['transaction_day'] =  taxi_data_prepared['tpep_pickup_datetime'].dt.day\n",
        "taxi_data_prepared['transaction_hour'] = taxi_data_prepared['tpep_pickup_datetime'].dt.hour"
      ]
    },
    {
      "cell_type": "code",
      "execution_count": null,
      "metadata": {
        "id": "XfuMSBNRZFwD",
        "outputId": "69c808be-af97-456c-ef35-dbf9035a3520"
      },
      "outputs": [
        {
          "data": {
            "text/html": [
              "<div>\n",
              "<style scoped>\n",
              "    .dataframe tbody tr th:only-of-type {\n",
              "        vertical-align: middle;\n",
              "    }\n",
              "\n",
              "    .dataframe tbody tr th {\n",
              "        vertical-align: top;\n",
              "    }\n",
              "\n",
              "    .dataframe thead th {\n",
              "        text-align: right;\n",
              "    }\n",
              "</style>\n",
              "<table border=\"1\" class=\"dataframe\">\n",
              "  <thead>\n",
              "    <tr style=\"text-align: right;\">\n",
              "      <th></th>\n",
              "      <th>tpep_pickup_datetime</th>\n",
              "      <th>tpep_dropoff_datetime</th>\n",
              "      <th>passenger_count</th>\n",
              "      <th>trip_distance</th>\n",
              "      <th>RatecodeID</th>\n",
              "      <th>PULocationID</th>\n",
              "      <th>DOLocationID</th>\n",
              "      <th>payment_type</th>\n",
              "      <th>total_amount</th>\n",
              "      <th>transaction_date</th>\n",
              "      <th>transaction_year</th>\n",
              "      <th>transaction_month</th>\n",
              "      <th>transaction_day</th>\n",
              "      <th>transaction_hour</th>\n",
              "    </tr>\n",
              "  </thead>\n",
              "  <tbody>\n",
              "    <tr>\n",
              "      <th>0</th>\n",
              "      <td>2019-01-01 00:46:40</td>\n",
              "      <td>2019-01-01 00:53:20</td>\n",
              "      <td>1</td>\n",
              "      <td>1.5</td>\n",
              "      <td>1</td>\n",
              "      <td>151</td>\n",
              "      <td>239</td>\n",
              "      <td>1</td>\n",
              "      <td>9.95</td>\n",
              "      <td>2019-01-01</td>\n",
              "      <td>2019</td>\n",
              "      <td>1</td>\n",
              "      <td>1</td>\n",
              "      <td>0</td>\n",
              "    </tr>\n",
              "    <tr>\n",
              "      <th>1</th>\n",
              "      <td>2019-01-01 00:59:47</td>\n",
              "      <td>2019-01-01 01:18:59</td>\n",
              "      <td>1</td>\n",
              "      <td>2.6</td>\n",
              "      <td>1</td>\n",
              "      <td>239</td>\n",
              "      <td>246</td>\n",
              "      <td>1</td>\n",
              "      <td>16.30</td>\n",
              "      <td>2019-01-01</td>\n",
              "      <td>2019</td>\n",
              "      <td>1</td>\n",
              "      <td>1</td>\n",
              "      <td>0</td>\n",
              "    </tr>\n",
              "    <tr>\n",
              "      <th>2</th>\n",
              "      <td>2018-12-21 13:48:30</td>\n",
              "      <td>2018-12-21 13:52:40</td>\n",
              "      <td>3</td>\n",
              "      <td>0.0</td>\n",
              "      <td>1</td>\n",
              "      <td>236</td>\n",
              "      <td>236</td>\n",
              "      <td>1</td>\n",
              "      <td>5.80</td>\n",
              "      <td>2018-12-21</td>\n",
              "      <td>2018</td>\n",
              "      <td>12</td>\n",
              "      <td>21</td>\n",
              "      <td>13</td>\n",
              "    </tr>\n",
              "    <tr>\n",
              "      <th>3</th>\n",
              "      <td>2018-11-28 15:52:25</td>\n",
              "      <td>2018-11-28 15:55:45</td>\n",
              "      <td>5</td>\n",
              "      <td>0.0</td>\n",
              "      <td>1</td>\n",
              "      <td>193</td>\n",
              "      <td>193</td>\n",
              "      <td>2</td>\n",
              "      <td>7.55</td>\n",
              "      <td>2018-11-28</td>\n",
              "      <td>2018</td>\n",
              "      <td>11</td>\n",
              "      <td>28</td>\n",
              "      <td>15</td>\n",
              "    </tr>\n",
              "    <tr>\n",
              "      <th>4</th>\n",
              "      <td>2018-11-28 15:56:57</td>\n",
              "      <td>2018-11-28 15:58:33</td>\n",
              "      <td>5</td>\n",
              "      <td>0.0</td>\n",
              "      <td>2</td>\n",
              "      <td>193</td>\n",
              "      <td>193</td>\n",
              "      <td>2</td>\n",
              "      <td>55.55</td>\n",
              "      <td>2018-11-28</td>\n",
              "      <td>2018</td>\n",
              "      <td>11</td>\n",
              "      <td>28</td>\n",
              "      <td>15</td>\n",
              "    </tr>\n",
              "  </tbody>\n",
              "</table>\n",
              "</div>"
            ],
            "text/plain": [
              "  tpep_pickup_datetime tpep_dropoff_datetime  passenger_count  trip_distance  \\\n",
              "0  2019-01-01 00:46:40   2019-01-01 00:53:20                1            1.5   \n",
              "1  2019-01-01 00:59:47   2019-01-01 01:18:59                1            2.6   \n",
              "2  2018-12-21 13:48:30   2018-12-21 13:52:40                3            0.0   \n",
              "3  2018-11-28 15:52:25   2018-11-28 15:55:45                5            0.0   \n",
              "4  2018-11-28 15:56:57   2018-11-28 15:58:33                5            0.0   \n",
              "\n",
              "  RatecodeID PULocationID DOLocationID payment_type  total_amount  \\\n",
              "0          1          151          239            1          9.95   \n",
              "1          1          239          246            1         16.30   \n",
              "2          1          236          236            1          5.80   \n",
              "3          1          193          193            2          7.55   \n",
              "4          2          193          193            2         55.55   \n",
              "\n",
              "  transaction_date  transaction_year  transaction_month  transaction_day  \\\n",
              "0       2019-01-01              2019                  1                1   \n",
              "1       2019-01-01              2019                  1                1   \n",
              "2       2018-12-21              2018                 12               21   \n",
              "3       2018-11-28              2018                 11               28   \n",
              "4       2018-11-28              2018                 11               28   \n",
              "\n",
              "   transaction_hour  \n",
              "0                 0  \n",
              "1                 0  \n",
              "2                13  \n",
              "3                15  \n",
              "4                15  "
            ]
          },
          "execution_count": 73,
          "metadata": {},
          "output_type": "execute_result"
        }
      ],
      "source": [
        "taxi_data_prepared.head()"
      ]
    },
    {
      "cell_type": "code",
      "execution_count": null,
      "metadata": {
        "id": "hnihG3HYZFwD",
        "outputId": "b66c4905-23bf-4ea6-8566-1553cee4548f"
      },
      "outputs": [
        {
          "data": {
            "text/plain": [
              "array([[<matplotlib.axes._subplots.AxesSubplot object at 0x7fb4bc589580>,\n",
              "        <matplotlib.axes._subplots.AxesSubplot object at 0x7fb5ff9528e0>,\n",
              "        <matplotlib.axes._subplots.AxesSubplot object at 0x7fb615368d60>],\n",
              "       [<matplotlib.axes._subplots.AxesSubplot object at 0x7fb6151e01f0>,\n",
              "        <matplotlib.axes._subplots.AxesSubplot object at 0x7fb61518f640>,\n",
              "        <matplotlib.axes._subplots.AxesSubplot object at 0x7fb6151bb9d0>],\n",
              "       [<matplotlib.axes._subplots.AxesSubplot object at 0x7fb6151bbac0>,\n",
              "        <matplotlib.axes._subplots.AxesSubplot object at 0x7fb6151213a0>,\n",
              "        <matplotlib.axes._subplots.AxesSubplot object at 0x7fb6151408b0>]],\n",
              "      dtype=object)"
            ]
          },
          "execution_count": 74,
          "metadata": {},
          "output_type": "execute_result"
        },
        {
          "data": {
            "image/png": "[encoded data removed]",
            "text/plain": [
              "<Figure size 1440x720 with 9 Axes>"
            ]
          },
          "metadata": {
            "needs_background": "light"
          },
          "output_type": "display_data"
        }
      ],
      "source": [
        "taxi_data_prepared.hist(figsize=(20,10), bins=60)"
      ]
    },
    {
      "cell_type": "code",
      "execution_count": null,
      "metadata": {
        "id": "w_-n7d7rZFwD"
      },
      "outputs": [],
      "source": [
        "taxi_data_prepared = taxi_data_prepared[taxi_data_prepared['transaction_year']==2019]\n",
        "taxi_data_prepared = taxi_data_prepared[taxi_data_prepared['transaction_month']==1]"
      ]
    },
    {
      "cell_type": "markdown",
      "metadata": {
        "id": "ZVuCYfiHZFwE"
      },
      "source": [
        "Noting down categorical and numerical columns"
      ]
    },
    {
      "cell_type": "code",
      "execution_count": null,
      "metadata": {
        "id": "fT2h7CFSZFwE"
      },
      "outputs": [],
      "source": [
        "categorical_columns = ['PULocationID','transaction_date','transaction_month','transaction_day','transaction_hour']\n",
        "numerical_columns = ['trip_distance','total_amount']\n",
        "all_needed_columns = categorical_columns + numerical_columns\n"
      ]
    },
    {
      "cell_type": "code",
      "execution_count": null,
      "metadata": {
        "id": "tChn-2Z-ZFwF",
        "outputId": "3b068d2d-835e-4751-f39b-1776e275fb0f"
      },
      "outputs": [
        {
          "name": "stdout",
          "output_type": "stream",
          "text": [
            "(7658954, 7)\n"
          ]
        },
        {
          "data": {
            "text/html": [
              "<div>\n",
              "<style scoped>\n",
              "    .dataframe tbody tr th:only-of-type {\n",
              "        vertical-align: middle;\n",
              "    }\n",
              "\n",
              "    .dataframe tbody tr th {\n",
              "        vertical-align: top;\n",
              "    }\n",
              "\n",
              "    .dataframe thead th {\n",
              "        text-align: right;\n",
              "    }\n",
              "</style>\n",
              "<table border=\"1\" class=\"dataframe\">\n",
              "  <thead>\n",
              "    <tr style=\"text-align: right;\">\n",
              "      <th></th>\n",
              "      <th>PULocationID</th>\n",
              "      <th>transaction_date</th>\n",
              "      <th>transaction_month</th>\n",
              "      <th>transaction_day</th>\n",
              "      <th>transaction_hour</th>\n",
              "      <th>trip_distance</th>\n",
              "      <th>total_amount</th>\n",
              "    </tr>\n",
              "  </thead>\n",
              "  <tbody>\n",
              "    <tr>\n",
              "      <th>0</th>\n",
              "      <td>151</td>\n",
              "      <td>2019-01-01</td>\n",
              "      <td>1</td>\n",
              "      <td>1</td>\n",
              "      <td>0</td>\n",
              "      <td>1.5</td>\n",
              "      <td>9.95</td>\n",
              "    </tr>\n",
              "    <tr>\n",
              "      <th>1</th>\n",
              "      <td>239</td>\n",
              "      <td>2019-01-01</td>\n",
              "      <td>1</td>\n",
              "      <td>1</td>\n",
              "      <td>0</td>\n",
              "      <td>2.6</td>\n",
              "      <td>16.30</td>\n",
              "    </tr>\n",
              "    <tr>\n",
              "      <th>7</th>\n",
              "      <td>163</td>\n",
              "      <td>2019-01-01</td>\n",
              "      <td>1</td>\n",
              "      <td>1</td>\n",
              "      <td>0</td>\n",
              "      <td>1.3</td>\n",
              "      <td>9.05</td>\n",
              "    </tr>\n",
              "    <tr>\n",
              "      <th>8</th>\n",
              "      <td>229</td>\n",
              "      <td>2019-01-01</td>\n",
              "      <td>1</td>\n",
              "      <td>1</td>\n",
              "      <td>0</td>\n",
              "      <td>3.7</td>\n",
              "      <td>18.50</td>\n",
              "    </tr>\n",
              "    <tr>\n",
              "      <th>9</th>\n",
              "      <td>141</td>\n",
              "      <td>2019-01-01</td>\n",
              "      <td>1</td>\n",
              "      <td>1</td>\n",
              "      <td>0</td>\n",
              "      <td>2.1</td>\n",
              "      <td>13.00</td>\n",
              "    </tr>\n",
              "  </tbody>\n",
              "</table>\n",
              "</div>"
            ],
            "text/plain": [
              "  PULocationID transaction_date  transaction_month  transaction_day  \\\n",
              "0          151       2019-01-01                  1                1   \n",
              "1          239       2019-01-01                  1                1   \n",
              "7          163       2019-01-01                  1                1   \n",
              "8          229       2019-01-01                  1                1   \n",
              "9          141       2019-01-01                  1                1   \n",
              "\n",
              "   transaction_hour  trip_distance  total_amount  \n",
              "0                 0            1.5          9.95  \n",
              "1                 0            2.6         16.30  \n",
              "7                 0            1.3          9.05  \n",
              "8                 0            3.7         18.50  \n",
              "9                 0            2.1         13.00  "
            ]
          },
          "execution_count": 77,
          "metadata": {},
          "output_type": "execute_result"
        }
      ],
      "source": [
        "main_taxi_df = taxi_data_prepared[all_needed_columns]\n",
        "print(main_taxi_df.shape)\n",
        "main_taxi_df.head()"
      ]
    },
    {
      "cell_type": "markdown",
      "metadata": {
        "id": "LOcibxUCZFwF"
      },
      "source": [
        "Aggregate data points <br>\n",
        "Now is a good time to think about what we want to predict. Depending on this, we need to transform our data to have a certain format."
      ]
    },
    {
      "cell_type": "code",
      "execution_count": null,
      "metadata": {
        "id": "E4OfpgbcZFwF",
        "outputId": "215731f0-27f3-4ae4-f528-b436a471e079"
      },
      "outputs": [
        {
          "name": "stdout",
          "output_type": "stream",
          "text": [
            "(102556, 8)\n"
          ]
        },
        {
          "data": {
            "text/html": [
              "<div>\n",
              "<style scoped>\n",
              "    .dataframe tbody tr th:only-of-type {\n",
              "        vertical-align: middle;\n",
              "    }\n",
              "\n",
              "    .dataframe tbody tr th {\n",
              "        vertical-align: top;\n",
              "    }\n",
              "\n",
              "    .dataframe thead th {\n",
              "        text-align: right;\n",
              "    }\n",
              "</style>\n",
              "<table border=\"1\" class=\"dataframe\">\n",
              "  <thead>\n",
              "    <tr style=\"text-align: right;\">\n",
              "      <th></th>\n",
              "      <th>PULocationID</th>\n",
              "      <th>transaction_date</th>\n",
              "      <th>transaction_month</th>\n",
              "      <th>transaction_day</th>\n",
              "      <th>transaction_hour</th>\n",
              "      <th>trip_distance</th>\n",
              "      <th>total_amount</th>\n",
              "      <th>count_of_transactions</th>\n",
              "    </tr>\n",
              "  </thead>\n",
              "  <tbody>\n",
              "    <tr>\n",
              "      <th>0</th>\n",
              "      <td>1</td>\n",
              "      <td>2019-01-01</td>\n",
              "      <td>1</td>\n",
              "      <td>1</td>\n",
              "      <td>2</td>\n",
              "      <td>0.0</td>\n",
              "      <td>21.800</td>\n",
              "      <td>1</td>\n",
              "    </tr>\n",
              "    <tr>\n",
              "      <th>1</th>\n",
              "      <td>1</td>\n",
              "      <td>2019-01-01</td>\n",
              "      <td>1</td>\n",
              "      <td>1</td>\n",
              "      <td>5</td>\n",
              "      <td>0.0</td>\n",
              "      <td>87.300</td>\n",
              "      <td>1</td>\n",
              "    </tr>\n",
              "    <tr>\n",
              "      <th>2</th>\n",
              "      <td>1</td>\n",
              "      <td>2019-01-01</td>\n",
              "      <td>1</td>\n",
              "      <td>1</td>\n",
              "      <td>6</td>\n",
              "      <td>0.0</td>\n",
              "      <td>80.300</td>\n",
              "      <td>1</td>\n",
              "    </tr>\n",
              "    <tr>\n",
              "      <th>3</th>\n",
              "      <td>1</td>\n",
              "      <td>2019-01-01</td>\n",
              "      <td>1</td>\n",
              "      <td>1</td>\n",
              "      <td>8</td>\n",
              "      <td>0.0</td>\n",
              "      <td>128.580</td>\n",
              "      <td>2</td>\n",
              "    </tr>\n",
              "    <tr>\n",
              "      <th>4</th>\n",
              "      <td>1</td>\n",
              "      <td>2019-01-01</td>\n",
              "      <td>1</td>\n",
              "      <td>1</td>\n",
              "      <td>10</td>\n",
              "      <td>16.9</td>\n",
              "      <td>43.245</td>\n",
              "      <td>4</td>\n",
              "    </tr>\n",
              "  </tbody>\n",
              "</table>\n",
              "</div>"
            ],
            "text/plain": [
              "  PULocationID transaction_date  transaction_month  transaction_day  \\\n",
              "0            1       2019-01-01                  1                1   \n",
              "1            1       2019-01-01                  1                1   \n",
              "2            1       2019-01-01                  1                1   \n",
              "3            1       2019-01-01                  1                1   \n",
              "4            1       2019-01-01                  1                1   \n",
              "\n",
              "   transaction_hour  trip_distance  total_amount  count_of_transactions  \n",
              "0                 2            0.0        21.800                      1  \n",
              "1                 5            0.0        87.300                      1  \n",
              "2                 6            0.0        80.300                      1  \n",
              "3                 8            0.0       128.580                      2  \n",
              "4                10           16.9        43.245                      4  "
            ]
          },
          "execution_count": 78,
          "metadata": {},
          "output_type": "execute_result"
        }
      ],
      "source": [
        "taxi_grouped_by_region = main_taxi_df.groupby(categorical_columns).mean().reset_index()\n",
        "taxi_grouped_by_region['count_of_transactions'] = main_taxi_df.groupby(categorical_columns).count().reset_index()['total_amount']\n",
        "print(taxi_grouped_by_region.shape)\n",
        "taxi_grouped_by_region.head()\n"
      ]
    },
    {
      "cell_type": "code",
      "execution_count": null,
      "metadata": {
        "id": "PO-ufhSzZFwG",
        "outputId": "5d4200a8-893a-4ceb-d764-a77033d61af8"
      },
      "outputs": [
        {
          "data": {
            "text/plain": [
              "<matplotlib.axes._subplots.AxesSubplot at 0x7fb4bd106cd0>"
            ]
          },
          "execution_count": 79,
          "metadata": {},
          "output_type": "execute_result"
        },
        {
          "data": {
            "image/png": "[encoded data removed]",
            "text/plain": [
              "<Figure size 720x360 with 1 Axes>"
            ]
          },
          "metadata": {
            "needs_background": "light"
          },
          "output_type": "display_data"
        }
      ],
      "source": [
        "taxi_grouped_by_region['trip_distance'].hist(bins=100, figsize=(10,5))"
      ]
    },
    {
      "cell_type": "code",
      "execution_count": null,
      "metadata": {
        "id": "-mfKQBQTZFwG",
        "outputId": "a48be0ed-1b99-44e8-b327-3a1d4b426455"
      },
      "outputs": [
        {
          "data": {
            "text/plain": [
              "<matplotlib.axes._subplots.AxesSubplot at 0x7fb4b74fa2b0>"
            ]
          },
          "execution_count": 80,
          "metadata": {},
          "output_type": "execute_result"
        },
        {
          "data": {
            "image/png": "[encoded data removed]",
            "text/plain": [
              "<Figure size 720x360 with 1 Axes>"
            ]
          },
          "metadata": {
            "needs_background": "light"
          },
          "output_type": "display_data"
        }
      ],
      "source": [
        "taxi_grouped_by_region['total_amount'].hist(bins=100, figsize=(10,5))"
      ]
    },
    {
      "cell_type": "markdown",
      "metadata": {
        "id": "nH5K1Mf0ZFwG"
      },
      "source": [
        "# 5. Benchmark model <a id='benchmark_model'></a>\n",
        "[Back to top](#table_of_contents)"
      ]
    },
    {
      "cell_type": "code",
      "execution_count": null,
      "metadata": {
        "id": "wS14DYqBZFwG"
      },
      "outputs": [],
      "source": [
        "data_for_benchmark_model = taxi_grouped_by_region.copy()"
      ]
    },
    {
      "cell_type": "code",
      "execution_count": null,
      "metadata": {
        "id": "wl-Zxo42ZFwG",
        "outputId": "0dbe7eb6-77af-4ea1-875a-7e692babf66c"
      },
      "outputs": [
        {
          "data": {
            "text/html": [
              "<div>\n",
              "<style scoped>\n",
              "    .dataframe tbody tr th:only-of-type {\n",
              "        vertical-align: middle;\n",
              "    }\n",
              "\n",
              "    .dataframe tbody tr th {\n",
              "        vertical-align: top;\n",
              "    }\n",
              "\n",
              "    .dataframe thead th {\n",
              "        text-align: right;\n",
              "    }\n",
              "</style>\n",
              "<table border=\"1\" class=\"dataframe\">\n",
              "  <thead>\n",
              "    <tr style=\"text-align: right;\">\n",
              "      <th></th>\n",
              "      <th>PULocationID</th>\n",
              "      <th>transaction_date</th>\n",
              "      <th>transaction_month</th>\n",
              "      <th>transaction_day</th>\n",
              "      <th>transaction_hour</th>\n",
              "      <th>trip_distance</th>\n",
              "      <th>total_amount</th>\n",
              "      <th>count_of_transactions</th>\n",
              "    </tr>\n",
              "  </thead>\n",
              "  <tbody>\n",
              "    <tr>\n",
              "      <th>0</th>\n",
              "      <td>1</td>\n",
              "      <td>2019-01-01</td>\n",
              "      <td>1</td>\n",
              "      <td>1</td>\n",
              "      <td>2</td>\n",
              "      <td>0.00</td>\n",
              "      <td>21.800</td>\n",
              "      <td>1</td>\n",
              "    </tr>\n",
              "    <tr>\n",
              "      <th>1</th>\n",
              "      <td>1</td>\n",
              "      <td>2019-01-01</td>\n",
              "      <td>1</td>\n",
              "      <td>1</td>\n",
              "      <td>5</td>\n",
              "      <td>0.00</td>\n",
              "      <td>87.300</td>\n",
              "      <td>1</td>\n",
              "    </tr>\n",
              "    <tr>\n",
              "      <th>2</th>\n",
              "      <td>1</td>\n",
              "      <td>2019-01-01</td>\n",
              "      <td>1</td>\n",
              "      <td>1</td>\n",
              "      <td>6</td>\n",
              "      <td>0.00</td>\n",
              "      <td>80.300</td>\n",
              "      <td>1</td>\n",
              "    </tr>\n",
              "    <tr>\n",
              "      <th>3</th>\n",
              "      <td>1</td>\n",
              "      <td>2019-01-01</td>\n",
              "      <td>1</td>\n",
              "      <td>1</td>\n",
              "      <td>8</td>\n",
              "      <td>0.00</td>\n",
              "      <td>128.580</td>\n",
              "      <td>2</td>\n",
              "    </tr>\n",
              "    <tr>\n",
              "      <th>4</th>\n",
              "      <td>1</td>\n",
              "      <td>2019-01-01</td>\n",
              "      <td>1</td>\n",
              "      <td>1</td>\n",
              "      <td>10</td>\n",
              "      <td>16.90</td>\n",
              "      <td>43.245</td>\n",
              "      <td>4</td>\n",
              "    </tr>\n",
              "    <tr>\n",
              "      <th>...</th>\n",
              "      <td>...</td>\n",
              "      <td>...</td>\n",
              "      <td>...</td>\n",
              "      <td>...</td>\n",
              "      <td>...</td>\n",
              "      <td>...</td>\n",
              "      <td>...</td>\n",
              "      <td>...</td>\n",
              "    </tr>\n",
              "    <tr>\n",
              "      <th>102551</th>\n",
              "      <td>98</td>\n",
              "      <td>2019-01-31</td>\n",
              "      <td>1</td>\n",
              "      <td>31</td>\n",
              "      <td>18</td>\n",
              "      <td>16.66</td>\n",
              "      <td>58.060</td>\n",
              "      <td>1</td>\n",
              "    </tr>\n",
              "    <tr>\n",
              "      <th>102552</th>\n",
              "      <td>99</td>\n",
              "      <td>2019-01-18</td>\n",
              "      <td>1</td>\n",
              "      <td>18</td>\n",
              "      <td>18</td>\n",
              "      <td>1.66</td>\n",
              "      <td>9.800</td>\n",
              "      <td>1</td>\n",
              "    </tr>\n",
              "    <tr>\n",
              "      <th>102553</th>\n",
              "      <td>99</td>\n",
              "      <td>2019-01-26</td>\n",
              "      <td>1</td>\n",
              "      <td>26</td>\n",
              "      <td>8</td>\n",
              "      <td>0.42</td>\n",
              "      <td>6.000</td>\n",
              "      <td>1</td>\n",
              "    </tr>\n",
              "    <tr>\n",
              "      <th>102554</th>\n",
              "      <td>99</td>\n",
              "      <td>2019-01-30</td>\n",
              "      <td>1</td>\n",
              "      <td>30</td>\n",
              "      <td>7</td>\n",
              "      <td>2.87</td>\n",
              "      <td>18.050</td>\n",
              "      <td>1</td>\n",
              "    </tr>\n",
              "    <tr>\n",
              "      <th>102555</th>\n",
              "      <td>99</td>\n",
              "      <td>2019-01-30</td>\n",
              "      <td>1</td>\n",
              "      <td>30</td>\n",
              "      <td>11</td>\n",
              "      <td>31.60</td>\n",
              "      <td>99.320</td>\n",
              "      <td>1</td>\n",
              "    </tr>\n",
              "  </tbody>\n",
              "</table>\n",
              "<p>102556 rows × 8 columns</p>\n",
              "</div>"
            ],
            "text/plain": [
              "       PULocationID transaction_date  transaction_month  transaction_day  \\\n",
              "0                 1       2019-01-01                  1                1   \n",
              "1                 1       2019-01-01                  1                1   \n",
              "2                 1       2019-01-01                  1                1   \n",
              "3                 1       2019-01-01                  1                1   \n",
              "4                 1       2019-01-01                  1                1   \n",
              "...             ...              ...                ...              ...   \n",
              "102551           98       2019-01-31                  1               31   \n",
              "102552           99       2019-01-18                  1               18   \n",
              "102553           99       2019-01-26                  1               26   \n",
              "102554           99       2019-01-30                  1               30   \n",
              "102555           99       2019-01-30                  1               30   \n",
              "\n",
              "        transaction_hour  trip_distance  total_amount  count_of_transactions  \n",
              "0                      2           0.00        21.800                      1  \n",
              "1                      5           0.00        87.300                      1  \n",
              "2                      6           0.00        80.300                      1  \n",
              "3                      8           0.00       128.580                      2  \n",
              "4                     10          16.90        43.245                      4  \n",
              "...                  ...            ...           ...                    ...  \n",
              "102551                18          16.66        58.060                      1  \n",
              "102552                18           1.66         9.800                      1  \n",
              "102553                 8           0.42         6.000                      1  \n",
              "102554                 7           2.87        18.050                      1  \n",
              "102555                11          31.60        99.320                      1  \n",
              "\n",
              "[102556 rows x 8 columns]"
            ]
          },
          "execution_count": 82,
          "metadata": {},
          "output_type": "execute_result"
        }
      ],
      "source": [
        "data_for_benchmark_model"
      ]
    },
    {
      "cell_type": "code",
      "execution_count": null,
      "metadata": {
        "id": "VKE5D_E4ZFwH"
      },
      "outputs": [],
      "source": [
        "categorical_features_benchmark = ['PULocationID','transaction_month','transaction_day','transaction_hour']\n",
        "input_features_benchmark  = categorical_features_benchmark + ['trip_distance']\n",
        "target_feature_benchmark  = 'total_amount'"
      ]
    },
    {
      "cell_type": "markdown",
      "metadata": {
        "id": "cdaXaJyCZFwH"
      },
      "source": [
        "## 5.1. Train-test split <a id='train_test_split'></a>"
      ]
    },
    {
      "cell_type": "code",
      "execution_count": null,
      "metadata": {
        "id": "bS5IynfrZFwH"
      },
      "outputs": [],
      "source": [
        "from sklearn.model_selection import train_test_split\n",
        "\n",
        "X_bench = data_for_benchmark_model[input_features_benchmark]\n",
        "y_bench = data_for_benchmark_model[target_feature_benchmark]\n",
        "\n",
        "# one-hot encode\n",
        "X_bench = pd.get_dummies(X_bench)\n",
        "\n",
        "X_train_b, X_test_b, y_train_b, y_test_b = train_test_split(X_bench, y_bench, test_size=0.33, random_state=42)"
      ]
    },
    {
      "cell_type": "markdown",
      "metadata": {
        "id": "qf-FVnNlZFwH"
      },
      "source": [
        "## 5.2. Fit a model to the data <a id='fit_model'></a>"
      ]
    },
    {
      "cell_type": "code",
      "execution_count": null,
      "metadata": {
        "id": "3Dfk2gMWZFwI",
        "outputId": "436145e6-1075-4653-85c3-64931e119467"
      },
      "outputs": [
        {
          "data": {
            "text/plain": [
              "DecisionTreeRegressor(max_depth=10)"
            ]
          },
          "execution_count": 85,
          "metadata": {},
          "output_type": "execute_result"
        }
      ],
      "source": [
        "from sklearn.tree import DecisionTreeRegressor\n",
        "\n",
        "tree = DecisionTreeRegressor(max_depth=10)\n",
        "tree.fit(X_train_b, y_train_b)\n"
      ]
    },
    {
      "cell_type": "markdown",
      "metadata": {
        "id": "_p2BZ4hwZFwI"
      },
      "source": [
        "## 5.3. Model evaluation <a id='model_evaluation'></a>"
      ]
    },
    {
      "cell_type": "code",
      "execution_count": null,
      "metadata": {
        "id": "v52O0B00ZFwI",
        "outputId": "b260adaf-4058-4de2-8e3f-638985f0fd2b"
      },
      "outputs": [
        {
          "name": "stdout",
          "output_type": "stream",
          "text": [
            "mean_absolute_error 3.4313471447309563\n",
            "mean_squared_error 64.2961971730041\n",
            "root_mean_squared_error 8.018490953602436\n",
            "r2 0.7705552174199464\n"
          ]
        }
      ],
      "source": [
        "model_at_hand = tree\n",
        "\n",
        "y_pred_b = model_at_hand.predict(X_test_b)\n",
        "\n",
        "from sklearn.metrics import mean_absolute_error\n",
        "from sklearn.metrics import mean_squared_error\n",
        "from sklearn.metrics import r2_score\n",
        "from math import sqrt\n",
        "\n",
        "print('mean_absolute_error', mean_absolute_error(y_test_b, y_pred_b))\n",
        "print('mean_squared_error', mean_squared_error(y_test_b, y_pred_b))\n",
        "print('root_mean_squared_error', sqrt(mean_squared_error(y_test_b, y_pred_b)))\n",
        "print('r2', r2_score(y_test_b, y_pred_b))"
      ]
    },
    {
      "cell_type": "code",
      "execution_count": null,
      "metadata": {
        "id": "m3oLd4ZZZFwJ",
        "outputId": "501fc15d-ee5d-458f-cf50-d2170996337a"
      },
      "outputs": [
        {
          "data": {
            "text/plain": [
              "<matplotlib.axes._subplots.AxesSubplot at 0x7fb4bb92c490>"
            ]
          },
          "execution_count": 87,
          "metadata": {},
          "output_type": "execute_result"
        },
        {
          "data": {
            "image/png": "[encoded data removed]",
            "text/plain": [
              "<Figure size 1440x720 with 1 Axes>"
            ]
          },
          "metadata": {
            "needs_background": "light"
          },
          "output_type": "display_data"
        }
      ],
      "source": [
        "data = {'true': y_test_b, 'pred': y_pred_b}\n",
        "results = pd.DataFrame(data)\n",
        "\n",
        "results.plot(figsize=(20,10), kind='scatter', x='true', y='pred')"
      ]
    },
    {
      "cell_type": "markdown",
      "metadata": {
        "id": "hGdimdr5ZFwJ"
      },
      "source": [
        "Could this be too good to be true?"
      ]
    },
    {
      "cell_type": "markdown",
      "metadata": {
        "id": "VptJYTyhZFwK"
      },
      "source": [
        "## 5.4. Fix problems <a id='fix_problems'></a>"
      ]
    },
    {
      "cell_type": "code",
      "execution_count": null,
      "metadata": {
        "id": "I5l_NHKCZFwK",
        "outputId": "fd29a7a9-946b-4ded-b086-01b074102868"
      },
      "outputs": [
        {
          "name": "stdout",
          "output_type": "stream",
          "text": [
            "mean_absolute_error 9.776803074043205\n",
            "mean_squared_error 217.18626934573558\n",
            "root_mean_squared_error 14.737240900037415\n",
            "r2 0.22495795178492728\n"
          ]
        }
      ],
      "source": [
        "categorical_features_benchmark = ['PULocationID','transaction_month','transaction_day','transaction_hour']\n",
        "input_features_benchmark  = categorical_features_benchmark\n",
        "target_feature_benchmark  = 'total_amount'\n",
        "\n",
        "# Train and test split\n",
        "from sklearn.model_selection import train_test_split\n",
        "\n",
        "X_bench = data_for_benchmark_model[input_features_benchmark]\n",
        "y_bench = data_for_benchmark_model[target_feature_benchmark]\n",
        "\n",
        "# one-hot encode\n",
        "X_bench = pd.get_dummies(X_bench)\n",
        "\n",
        "X_train_b, X_test_b, y_train_b, y_test_b = train_test_split(X_bench, y_bench, test_size=0.33, random_state=42)\n",
        "\n",
        "# Fit a model\n",
        "from sklearn.tree import DecisionTreeRegressor\n",
        "\n",
        "tree = DecisionTreeRegressor(max_depth=10)\n",
        "tree.fit(X_train_b, y_train_b)\n",
        "\n",
        "# Evaluate model\n",
        "model_at_hand = tree\n",
        "\n",
        "y_pred_b = model_at_hand.predict(X_test_b)\n",
        "\n",
        "from sklearn.metrics import mean_absolute_error\n",
        "from sklearn.metrics import mean_squared_error\n",
        "from sklearn.metrics import r2_score\n",
        "from math import sqrt\n",
        "\n",
        "print('mean_absolute_error', mean_absolute_error(y_test_b, y_pred_b))\n",
        "print('mean_squared_error', mean_squared_error(y_test_b, y_pred_b))\n",
        "print('root_mean_squared_error', sqrt(mean_squared_error(y_test_b, y_pred_b)))\n",
        "print('r2', r2_score(y_test_b, y_pred_b))\n"
      ]
    },
    {
      "cell_type": "code",
      "execution_count": null,
      "metadata": {
        "id": "gZny_IOOZFwK",
        "outputId": "50c92a6b-1ea0-486f-c511-bfd8b1e79e1d"
      },
      "outputs": [
        {
          "data": {
            "text/plain": [
              "<matplotlib.axes._subplots.AxesSubplot at 0x7fb4bba19790>"
            ]
          },
          "execution_count": 89,
          "metadata": {},
          "output_type": "execute_result"
        },
        {
          "data": {
            "image/png": "[encoded data removed]",
            "text/plain": [
              "<Figure size 1440x720 with 1 Axes>"
            ]
          },
          "metadata": {
            "needs_background": "light"
          },
          "output_type": "display_data"
        }
      ],
      "source": [
        "data = {'true': y_test_b, 'pred': y_pred_b}\n",
        "results = pd.DataFrame(data)\n",
        "\n",
        "results.plot(figsize=(20,10), kind='scatter', x='true', y='pred')"
      ]
    },
    {
      "cell_type": "code",
      "execution_count": null,
      "metadata": {
        "id": "OauzAtqkZFwL"
      },
      "outputs": [],
      "source": []
    }
  ],
  "metadata": {
    "kernelspec": {
      "display_name": "Python 3",
      "language": "python",
      "name": "python3"
    },
    "language_info": {
      "codemirror_mode": {
        "name": "ipython",
        "version": 3
      },
      "file_extension": ".py",
      "mimetype": "text/x-python",
      "name": "python",
      "nbconvert_exporter": "python",
      "pygments_lexer": "ipython3",
      "version": "3.8.3"
    },
    "colab": {
      "provenance": []
    }
  },
  "nbformat": 4,
  "nbformat_minor": 0
}